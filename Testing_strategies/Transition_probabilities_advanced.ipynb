{
 "cells": [
  {
   "cell_type": "code",
   "execution_count": 1,
   "metadata": {},
   "outputs": [],
   "source": [
    "import yfinance as yf\n",
    "import pandas as pd\n",
    "import numpy as np\n",
    "\n",
    "from itertools import product"
   ]
  },
  {
   "cell_type": "code",
   "execution_count": null,
   "metadata": {},
   "outputs": [],
   "source": [
    "ticker = \"JPM\"\n",
    "data = yf.download(tickers = ticker, start=\"2006-01-01\", end=\"2025-01-01\")"
   ]
  },
  {
   "cell_type": "markdown",
   "metadata": {},
   "source": [
    "We mainly use the conditional probabilities formula\n",
    "$$ P(A|B) = \\frac{P(A \\cap B)}{P(B)}.$$\n",
    "We define sets $A_{n, \\varepsilon}$ which will denote an increase (or decrease) of $\\varepsilon$ percent over $n$ days. We will iterate over $\\varepsilon, n$ and the possible combinations of up and downs before. In a first step we will calculate the sets $A_{n, \\varepsilon}$."
   ]
  },
  {
   "cell_type": "code",
   "execution_count": 3,
   "metadata": {},
   "outputs": [],
   "source": [
    "data[\"Daily return\"] = data[\"Adj Close\"].pct_change() #periods=n\n",
    "data[\"State\"] = np.where(data[\"Daily return\"] >= 0, \"up\", \"down\")\n",
    "\n",
    "data = data.drop([\"Daily return\"], axis=1)"
   ]
  },
  {
   "cell_type": "code",
   "execution_count": null,
   "metadata": {},
   "outputs": [],
   "source": [
    "states = [\"up\", \"down\"]\n",
    "transition_probabilities = {}\n",
    "epsilon_prev = 0\n",
    "\n",
    "for length in range(2, 11): \n",
    "\n",
    "    for n_days in range(1, 10):\n",
    "        data[f\"change_{n_days}\"] = data[\"Adj Close\"].pct_change(n_days)\n",
    "        for epsilon in np.arange(0.1, 5, 0.1):\n",
    "            condition1 = data[(data[f\"change_{n_days}\"] >= epsilon_prev) & (data[f\"change_{n_days}\"] < epsilon)]\n",
    "            epsilon_prev = epsilon\n",
    "\n",
    "            for state_comb in product(states, repeat=length):\n",
    "                condition2 = True\n",
    "                for i, state in enumerate(state_comb):\n",
    "                    # In our case it does not matter if we look forward (i.e. -i) or backwards (i.e. i) because in any case we iterate over all combinations.\n",
    "                    condition1 &= (data[\"State\"].shift(i) == state)\n",
    "                    # The first state is the one we \"predict\"\n",
    "                    if i != 0:\n",
    "                        condition2 &= (data[\"State\"].shift(i) == state)\n",
    "\n",
    "                transition_probabilities[state_comb] = (len(data[condition1])/len(data[condition2]), len(data[condition2]))"
   ]
  },
  {
   "cell_type": "code",
   "execution_count": null,
   "metadata": {},
   "outputs": [],
   "source": [
    "for state_comb, prob in transition_probabilities.items():\n",
    "    if prob[0] > 0.7 and prob[1] > 10:\n",
    "        print(f\"Probability of {state_comb[0]} after {state_comb[1:]} is {prob[0]}, pattern appeared {prob[1]} times\")"
   ]
  }
 ],
 "metadata": {
  "kernelspec": {
   "display_name": ".venv",
   "language": "python",
   "name": "python3"
  },
  "language_info": {
   "codemirror_mode": {
    "name": "ipython",
    "version": 3
   },
   "file_extension": ".py",
   "mimetype": "text/x-python",
   "name": "python",
   "nbconvert_exporter": "python",
   "pygments_lexer": "ipython3",
   "version": "3.10.2"
  }
 },
 "nbformat": 4,
 "nbformat_minor": 2
}
