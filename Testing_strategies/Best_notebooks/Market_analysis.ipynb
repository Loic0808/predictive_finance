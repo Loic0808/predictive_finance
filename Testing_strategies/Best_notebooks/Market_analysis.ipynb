{
 "cells": [
  {
   "cell_type": "markdown",
   "metadata": {},
   "source": [
    "#### Tesla stock price analysis\n",
    "\n",
    "In this notebook we analyse the Tesla Stock prices using \n",
    "\n",
    "1. Google searches\n",
    "2. News (financial, political, ...)\n",
    "3. Financial data (Stock prices, volume)\n",
    "4. Reports done by the companies\n",
    "5. Information about the country/ CEO/...\n",
    "6. Major events like wars, pandemies,..."
   ]
  },
  {
   "cell_type": "code",
   "execution_count": null,
   "metadata": {},
   "outputs": [],
   "source": [
    "import numpy as np\n",
    "import pandas as pd\n",
    "import yfinance as yf\n",
    "\n",
    "import matplotlib.pyplot as plt\n",
    "\n",
    "# Library to fetch trends from Google trends\n",
    "from pytrends.request import TrendReq\n",
    "\n",
    "# Libraries to fetch news data from TheNewsAPI\n",
    "import requests\n",
    "import urllib.parse\n",
    "from datetime import datetime, timedelta"
   ]
  },
  {
   "cell_type": "code",
   "execution_count": null,
   "metadata": {},
   "outputs": [
    {
     "name": "stdout",
     "output_type": "stream",
     "text": [
      "YF.download() has changed argument auto_adjust default to True\n"
     ]
    },
    {
     "name": "stderr",
     "output_type": "stream",
     "text": [
      "[*********************100%***********************]  1 of 1 completed\n"
     ]
    }
   ],
   "source": [
    "ticker = \"TSLA\"\n",
    "start_date = \"2017-01-01\"\n",
    "end_date = \"2025-03-13\"\n",
    "\n",
    "data = yf.download(tickers = ticker, start=start_date, end=end_date)"
   ]
  },
  {
   "cell_type": "code",
   "execution_count": 9,
   "metadata": {},
   "outputs": [
    {
     "data": {
      "text/html": [
       "<div>\n",
       "<style scoped>\n",
       "    .dataframe tbody tr th:only-of-type {\n",
       "        vertical-align: middle;\n",
       "    }\n",
       "\n",
       "    .dataframe tbody tr th {\n",
       "        vertical-align: top;\n",
       "    }\n",
       "\n",
       "    .dataframe thead tr th {\n",
       "        text-align: left;\n",
       "    }\n",
       "\n",
       "    .dataframe thead tr:last-of-type th {\n",
       "        text-align: right;\n",
       "    }\n",
       "</style>\n",
       "<table border=\"1\" class=\"dataframe\">\n",
       "  <thead>\n",
       "    <tr>\n",
       "      <th>Price</th>\n",
       "      <th>Close</th>\n",
       "      <th>High</th>\n",
       "      <th>Low</th>\n",
       "      <th>Open</th>\n",
       "      <th>Volume</th>\n",
       "    </tr>\n",
       "    <tr>\n",
       "      <th>Ticker</th>\n",
       "      <th>TSLA</th>\n",
       "      <th>TSLA</th>\n",
       "      <th>TSLA</th>\n",
       "      <th>TSLA</th>\n",
       "      <th>TSLA</th>\n",
       "    </tr>\n",
       "    <tr>\n",
       "      <th>Date</th>\n",
       "      <th></th>\n",
       "      <th></th>\n",
       "      <th></th>\n",
       "      <th></th>\n",
       "      <th></th>\n",
       "    </tr>\n",
       "  </thead>\n",
       "  <tbody>\n",
       "    <tr>\n",
       "      <th>2017-01-03</th>\n",
       "      <td>14.466000</td>\n",
       "      <td>14.688667</td>\n",
       "      <td>14.064000</td>\n",
       "      <td>14.324000</td>\n",
       "      <td>88849500</td>\n",
       "    </tr>\n",
       "    <tr>\n",
       "      <th>2017-01-04</th>\n",
       "      <td>15.132667</td>\n",
       "      <td>15.200000</td>\n",
       "      <td>14.287333</td>\n",
       "      <td>14.316667</td>\n",
       "      <td>168202500</td>\n",
       "    </tr>\n",
       "    <tr>\n",
       "      <th>2017-01-05</th>\n",
       "      <td>15.116667</td>\n",
       "      <td>15.165333</td>\n",
       "      <td>14.796667</td>\n",
       "      <td>15.094667</td>\n",
       "      <td>88675500</td>\n",
       "    </tr>\n",
       "    <tr>\n",
       "      <th>2017-01-06</th>\n",
       "      <td>15.267333</td>\n",
       "      <td>15.354000</td>\n",
       "      <td>15.030000</td>\n",
       "      <td>15.128667</td>\n",
       "      <td>82918500</td>\n",
       "    </tr>\n",
       "    <tr>\n",
       "      <th>2017-01-09</th>\n",
       "      <td>15.418667</td>\n",
       "      <td>15.461333</td>\n",
       "      <td>15.200000</td>\n",
       "      <td>15.264667</td>\n",
       "      <td>59692500</td>\n",
       "    </tr>\n",
       "    <tr>\n",
       "      <th>...</th>\n",
       "      <td>...</td>\n",
       "      <td>...</td>\n",
       "      <td>...</td>\n",
       "      <td>...</td>\n",
       "      <td>...</td>\n",
       "    </tr>\n",
       "    <tr>\n",
       "      <th>2025-03-06</th>\n",
       "      <td>263.450012</td>\n",
       "      <td>272.649994</td>\n",
       "      <td>260.019989</td>\n",
       "      <td>272.059998</td>\n",
       "      <td>98451600</td>\n",
       "    </tr>\n",
       "    <tr>\n",
       "      <th>2025-03-07</th>\n",
       "      <td>262.670013</td>\n",
       "      <td>266.250000</td>\n",
       "      <td>250.729996</td>\n",
       "      <td>259.320007</td>\n",
       "      <td>102369600</td>\n",
       "    </tr>\n",
       "    <tr>\n",
       "      <th>2025-03-10</th>\n",
       "      <td>222.149994</td>\n",
       "      <td>253.369995</td>\n",
       "      <td>220.000000</td>\n",
       "      <td>252.539993</td>\n",
       "      <td>189076900</td>\n",
       "    </tr>\n",
       "    <tr>\n",
       "      <th>2025-03-11</th>\n",
       "      <td>230.580002</td>\n",
       "      <td>237.059998</td>\n",
       "      <td>217.020004</td>\n",
       "      <td>225.309998</td>\n",
       "      <td>174896400</td>\n",
       "    </tr>\n",
       "    <tr>\n",
       "      <th>2025-03-12</th>\n",
       "      <td>248.089996</td>\n",
       "      <td>251.839996</td>\n",
       "      <td>241.100006</td>\n",
       "      <td>247.220001</td>\n",
       "      <td>142215700</td>\n",
       "    </tr>\n",
       "  </tbody>\n",
       "</table>\n",
       "<p>2059 rows × 5 columns</p>\n",
       "</div>"
      ],
      "text/plain": [
       "Price            Close        High         Low        Open     Volume\n",
       "Ticker            TSLA        TSLA        TSLA        TSLA       TSLA\n",
       "Date                                                                 \n",
       "2017-01-03   14.466000   14.688667   14.064000   14.324000   88849500\n",
       "2017-01-04   15.132667   15.200000   14.287333   14.316667  168202500\n",
       "2017-01-05   15.116667   15.165333   14.796667   15.094667   88675500\n",
       "2017-01-06   15.267333   15.354000   15.030000   15.128667   82918500\n",
       "2017-01-09   15.418667   15.461333   15.200000   15.264667   59692500\n",
       "...                ...         ...         ...         ...        ...\n",
       "2025-03-06  263.450012  272.649994  260.019989  272.059998   98451600\n",
       "2025-03-07  262.670013  266.250000  250.729996  259.320007  102369600\n",
       "2025-03-10  222.149994  253.369995  220.000000  252.539993  189076900\n",
       "2025-03-11  230.580002  237.059998  217.020004  225.309998  174896400\n",
       "2025-03-12  248.089996  251.839996  241.100006  247.220001  142215700\n",
       "\n",
       "[2059 rows x 5 columns]"
      ]
     },
     "execution_count": 9,
     "metadata": {},
     "output_type": "execute_result"
    }
   ],
   "source": [
    "data"
   ]
  },
  {
   "cell_type": "code",
   "execution_count": 12,
   "metadata": {},
   "outputs": [
    {
     "data": {
      "image/png": "[encoded data removed]",
      "text/plain": [
       "<Figure size 1000x500 with 1 Axes>"
      ]
     },
     "metadata": {},
     "output_type": "display_data"
    }
   ],
   "source": [
    "plt.figure(figsize=(10, 5))  \n",
    "plt.plot(data.index, data['Volume']/data['Volume'].max()*100, label='Normalized Volume', color='green')\n",
    "plt.plot(data.index, data['Close'], label='Close price', color='blue')\n",
    "\n",
    "# Formatting\n",
    "plt.xlabel('Time')\n",
    "plt.ylabel('Closing Price of Tesla Stock')\n",
    "plt.title('Time Series Plot')\n",
    "plt.legend()\n",
    "plt.grid(True)\n",
    "\n",
    "# Show plot\n",
    "plt.show()"
   ]
  },
  {
   "cell_type": "code",
   "execution_count": null,
   "metadata": {},
   "outputs": [
    {
     "name": "stderr",
     "output_type": "stream",
     "text": [
      "/Users/doblerloic/Desktop/Finance_prediction_project/predictive_finance/.venv/lib/python3.12/site-packages/pytrends/request.py:260: FutureWarning: Downcasting object dtype arrays on .fillna, .ffill, .bfill is deprecated and will change in a future version. Call result.infer_objects(copy=False) instead. To opt-in to the future behavior, set `pd.set_option('future.no_silent_downcasting', True)`\n",
      "  df = df.fillna(False)\n"
     ]
    }
   ],
   "source": [
    "Tesla_brand_id = \"Tesla stock\" #\"/m/07yv9\"\n",
    "\n",
    "def fetch_google_trends(topic: str, country: str, time_span: str):\n",
    "    pytrends = TrendReq(hl='en-US', tz=360)\n",
    "    \n",
    "    # Build the search payload\n",
    "    pytrends.build_payload([topic], geo=country, timeframe=time_span)\n",
    "    \n",
    "    # Fetch interest over time\n",
    "    df = pytrends.interest_over_time()\n",
    "    \n",
    "    if 'isPartial' in df.columns:\n",
    "        df = df.drop(columns=['isPartial'])  # Remove partial data column\n",
    "    \n",
    "    return df\n",
    "\n",
    "search_df = fetch_google_trends(topic=Tesla_brand_id, country=\"\", time_span=\"today 5-y\")  # Last 5 years\n"
   ]
  },
  {
   "cell_type": "code",
   "execution_count": null,
   "metadata": {},
   "outputs": [],
   "source": [
    "# Calculate the date one year ago\n",
    "one_year_ago = (datetime.now() - timedelta(days=7)).strftime('%Y-%m-%d')\n",
    "\n",
    "# API key and endpoint\n",
    "api_key = 'P4O7YFRnooX5BcYP3NHSRjQTofd5BZuUzjskKBBZ'\n",
    "url = \"https://api.thenewsapi.com/v1/news/top\"\n",
    "\n",
    "# Parameters for the request\n",
    "params = {\n",
    "    'api_token': api_key,\n",
    "    'search': 'Tesla',\n",
    "    'categories': 'business',  # Filter for financial/business news\n",
    "    'locale': 'us,ca,gb,de,fr,es,it,pl',  # US, Canada, UK, Germany, France, Spain, Italy, Poland (Europe + North America)\n",
    "    'published_after': one_year_ago,  # Articles from the last year\n",
    "    'limit': 3, \n",
    "    'language': 'en',  # English language articles\n",
    "}\n",
    "\n",
    "# URL encode parameters\n",
    "url_with_params = f\"{url}?{urllib.parse.urlencode(params)}\"\n",
    "\n",
    "# Make the GET request\n",
    "response = requests.get(url_with_params)\n"
   ]
  },
  {
   "cell_type": "code",
   "execution_count": 26,
   "metadata": {},
   "outputs": [],
   "source": [
    "news_data = response.json()"
   ]
  },
  {
   "cell_type": "code",
   "execution_count": 30,
   "metadata": {},
   "outputs": [
    {
     "data": {
      "text/plain": [
       "{'uuid': '5b8a1cf0-dc17-43d3-a4f5-8b775f620dd6',\n",
       " 'title': 'Tesla Unusual Options Activity - Tesla (NASDAQ:TSLA)',\n",
       " 'description': '',\n",
       " 'keywords': '',\n",
       " 'snippet': 'Investors with a lot of money to spend have taken a bearish stance on Tesla TSLA.\\n\\nAnd retail traders should know.\\n\\nWe noticed this today when the trades showed...',\n",
       " 'url': 'https://www.benzinga.com/insights/options/25/01/43131703/tesla-unusual-options-activity',\n",
       " 'image_url': 'https://cdn.benzinga.com/files/images/story/2023/movers_image_0.jpeg?width=1200&height=800&fit=crop',\n",
       " 'language': 'en',\n",
       " 'published_at': '2025-01-22T15:15:49.000000Z',\n",
       " 'source': 'benzinga.com',\n",
       " 'categories': ['business'],\n",
       " 'relevance_score': 20.749239,\n",
       " 'locale': 'us'}"
      ]
     },
     "execution_count": 30,
     "metadata": {},
     "output_type": "execute_result"
    }
   ],
   "source": [
    "news_data[\"data\"][0]"
   ]
  },
  {
   "cell_type": "code",
   "execution_count": 29,
   "metadata": {},
   "outputs": [
    {
     "name": "stdout",
     "output_type": "stream",
     "text": [
      "Investors with a lot of money to spend have taken a bearish stance on Tesla TSLA.\n",
      "\n",
      "And retail traders should know.\n",
      "\n",
      "We noticed this today when the trades showed...\n"
     ]
    }
   ],
   "source": [
    "print(news_data[\"data\"][0][\"snippet\"])"
   ]
  },
  {
   "cell_type": "code",
   "execution_count": null,
   "metadata": {},
   "outputs": [],
   "source": [
    "\n",
    "# Check the response and print the data\n",
    "if response.status_code == 200:\n",
    "    data = response.json()\n",
    "    if data['status'] == 'ok':\n",
    "        for article in data['articles']:\n",
    "            print(f\"Title: {article['title']}\")\n",
    "            print(f\"Source: {article['source']['name']}\")\n",
    "            print(f\"Published at: {article['publishedAt']}\")\n",
    "            print(f\"URL: {article['url']}\\n\")\n",
    "    else:\n",
    "        print(\"Error in fetching data:\", data.get('message', 'Unknown error'))\n",
    "else:\n",
    "    print(\"Failed to fetch data:\", response.status_code)"
   ]
  },
  {
   "cell_type": "code",
   "execution_count": 23,
   "metadata": {},
   "outputs": [
    {
     "name": "stdout",
     "output_type": "stream",
     "text": [
      "{'meta': {'found': 4141, 'returned': 3, 'limit': 3, 'page': 1}, 'data': [{'uuid': '5b8a1cf0-dc17-43d3-a4f5-8b775f620dd6', 'title': 'Tesla Unusual Options Activity - Tesla (NASDAQ:TSLA)', 'description': '', 'keywords': '', 'snippet': 'Investors with a lot of money to spend have taken a bearish stance on Tesla TSLA.\\n\\nAnd retail traders should know.\\n\\nWe noticed this today when the trades showed...', 'url': 'https://www.benzinga.com/insights/options/25/01/43131703/tesla-unusual-options-activity', 'image_url': 'https://cdn.benzinga.com/files/images/story/2023/movers_image_0.jpeg?width=1200&height=800&fit=crop', 'language': 'en', 'published_at': '2025-01-22T15:15:49.000000Z', 'source': 'benzinga.com', 'categories': ['business'], 'relevance_score': 20.749239, 'locale': 'us'}, {'uuid': '4bcd295d-2a5a-4693-b9a7-3cc1ae11ff0b', 'title': 'Tesla Unusual Options Activity - Tesla (NASDAQ:TSLA)', 'description': '', 'keywords': '', 'snippet': \"Deep-pocketed investors have adopted a bullish approach towards Tesla TSLA, and it's something market players shouldn't ignore. Our tracking of public options r...\", 'url': 'https://www.benzinga.com/insights/options/25/01/43004084/tesla-unusual-options-activity', 'image_url': 'https://cdn.benzinga.com/files/images/story/2023/movers_image_5.jpeg?width=1200&height=800&fit=crop', 'language': 'en', 'published_at': '2025-01-15T14:45:46.000000Z', 'source': 'benzinga.com', 'categories': ['business'], 'relevance_score': 20.633087, 'locale': 'us'}, {'uuid': 'a782babb-006a-4aaf-83dd-b33ca0296345', 'title': 'Tesla Unusual Options Activity - Tesla (NASDAQ:TSLA)', 'description': '', 'keywords': '', 'snippet': 'Investors with a lot of money to spend have taken a bullish stance on Tesla TSLA.\\n\\nAnd retail traders should know.\\n\\nWe noticed this today when the trades showed...', 'url': 'https://www.benzinga.com/insights/options/24/10/41252049/tesla-unusual-options-activity', 'image_url': 'https://cdn.benzinga.com/files/images/story/2023/movers_image_1.jpeg?width=1200&height=800&fit=crop', 'language': 'en', 'published_at': '2024-10-09T14:17:27.000000Z', 'source': 'benzinga.com', 'categories': ['business'], 'relevance_score': 20.485115, 'locale': 'us'}]}\n"
     ]
    }
   ],
   "source": [
    "print(response.json())"
   ]
  }
 ],
 "metadata": {
  "kernelspec": {
   "display_name": ".venv",
   "language": "python",
   "name": "python3"
  },
  "language_info": {
   "codemirror_mode": {
    "name": "ipython",
    "version": 3
   },
   "file_extension": ".py",
   "mimetype": "text/x-python",
   "name": "python",
   "nbconvert_exporter": "python",
   "pygments_lexer": "ipython3",
   "version": "3.12.9"
  }
 },
 "nbformat": 4,
 "nbformat_minor": 2
}
