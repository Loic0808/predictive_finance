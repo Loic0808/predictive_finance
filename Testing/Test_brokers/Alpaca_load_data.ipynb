{
 "cells": [
  {
   "cell_type": "code",
   "execution_count": 1,
   "metadata": {},
   "outputs": [],
   "source": [
    "from alpaca.data import CryptoHistoricalDataClient, StockHistoricalDataClient, OptionHistoricalDataClient\n",
    "\n",
    "api_key = \"PKAG0XBVFXJPXPXBWPGW\"\n",
    "secret_key = \"pjp69zCQBSUziTzXEjZ9DagW04sni7Jg99QKH6TH\""
   ]
  },
  {
   "cell_type": "code",
   "execution_count": 2,
   "metadata": {},
   "outputs": [],
   "source": [
    "# no keys required.\n",
    "crypto_client = CryptoHistoricalDataClient()\n",
    "\n",
    "# keys required\n",
    "stock_client = StockHistoricalDataClient(api_key,  secret_key)\n",
    "option_client = OptionHistoricalDataClient(api_key,  secret_key)"
   ]
  },
  {
   "cell_type": "code",
   "execution_count": 3,
   "metadata": {},
   "outputs": [],
   "source": [
    "from alpaca.data.requests import StockLatestQuoteRequest\n",
    "\n",
    "# keys required for stock historical data client\n",
    "client = StockHistoricalDataClient(api_key, secret_key)\n",
    "\n",
    "# multi symbol request - single symbol is similar\n",
    "multisymbol_request_params = StockLatestQuoteRequest(symbol_or_symbols=[\"MSFT\", \"AAPL\", \"JPM\"])\n",
    "\n",
    "latest_multisymbol_quotes = client.get_stock_latest_quote(multisymbol_request_params)\n",
    "\n",
    "msft_latest_ask_price = latest_multisymbol_quotes[\"MSFT\"].ask_price"
   ]
  },
  {
   "cell_type": "code",
   "execution_count": 4,
   "metadata": {},
   "outputs": [
    {
     "data": {
      "text/html": [
       "<div>\n",
       "<style scoped>\n",
       "    .dataframe tbody tr th:only-of-type {\n",
       "        vertical-align: middle;\n",
       "    }\n",
       "\n",
       "    .dataframe tbody tr th {\n",
       "        vertical-align: top;\n",
       "    }\n",
       "\n",
       "    .dataframe thead th {\n",
       "        text-align: right;\n",
       "    }\n",
       "</style>\n",
       "<table border=\"1\" class=\"dataframe\">\n",
       "  <thead>\n",
       "    <tr style=\"text-align: right;\">\n",
       "      <th></th>\n",
       "      <th></th>\n",
       "      <th>open</th>\n",
       "      <th>high</th>\n",
       "      <th>low</th>\n",
       "      <th>close</th>\n",
       "      <th>volume</th>\n",
       "      <th>trade_count</th>\n",
       "      <th>vwap</th>\n",
       "    </tr>\n",
       "    <tr>\n",
       "      <th>symbol</th>\n",
       "      <th>timestamp</th>\n",
       "      <th></th>\n",
       "      <th></th>\n",
       "      <th></th>\n",
       "      <th></th>\n",
       "      <th></th>\n",
       "      <th></th>\n",
       "      <th></th>\n",
       "    </tr>\n",
       "  </thead>\n",
       "  <tbody>\n",
       "    <tr>\n",
       "      <th rowspan=\"2\" valign=\"top\">BTC/USD</th>\n",
       "      <th>2024-11-29 06:00:00+00:00</th>\n",
       "      <td>96294.5000</td>\n",
       "      <td>98700.352578</td>\n",
       "      <td>95654.987</td>\n",
       "      <td>97174.850</td>\n",
       "      <td>2.198209</td>\n",
       "      <td>195.0</td>\n",
       "      <td>97753.347379</td>\n",
       "    </tr>\n",
       "    <tr>\n",
       "      <th>2024-11-30 06:00:00+00:00</th>\n",
       "      <td>97139.9350</td>\n",
       "      <td>97212.450000</td>\n",
       "      <td>95810.192</td>\n",
       "      <td>96442.985</td>\n",
       "      <td>0.492522</td>\n",
       "      <td>145.0</td>\n",
       "      <td>96733.776897</td>\n",
       "    </tr>\n",
       "    <tr>\n",
       "      <th rowspan=\"2\" valign=\"top\">ETH/USD</th>\n",
       "      <th>2024-11-29 06:00:00+00:00</th>\n",
       "      <td>3580.7445</td>\n",
       "      <td>3695.928500</td>\n",
       "      <td>3536.510</td>\n",
       "      <td>3694.575</td>\n",
       "      <td>25.307602</td>\n",
       "      <td>117.0</td>\n",
       "      <td>3597.269545</td>\n",
       "    </tr>\n",
       "    <tr>\n",
       "      <th>2024-11-30 06:00:00+00:00</th>\n",
       "      <td>3697.9650</td>\n",
       "      <td>3737.910000</td>\n",
       "      <td>3635.485</td>\n",
       "      <td>3685.905</td>\n",
       "      <td>45.580636</td>\n",
       "      <td>199.0</td>\n",
       "      <td>3683.003964</td>\n",
       "    </tr>\n",
       "  </tbody>\n",
       "</table>\n",
       "</div>"
      ],
      "text/plain": [
       "                                         open          high        low  \\\n",
       "symbol  timestamp                                                        \n",
       "BTC/USD 2024-11-29 06:00:00+00:00  96294.5000  98700.352578  95654.987   \n",
       "        2024-11-30 06:00:00+00:00  97139.9350  97212.450000  95810.192   \n",
       "ETH/USD 2024-11-29 06:00:00+00:00   3580.7445   3695.928500   3536.510   \n",
       "        2024-11-30 06:00:00+00:00   3697.9650   3737.910000   3635.485   \n",
       "\n",
       "                                       close     volume  trade_count  \\\n",
       "symbol  timestamp                                                      \n",
       "BTC/USD 2024-11-29 06:00:00+00:00  97174.850   2.198209        195.0   \n",
       "        2024-11-30 06:00:00+00:00  96442.985   0.492522        145.0   \n",
       "ETH/USD 2024-11-29 06:00:00+00:00   3694.575  25.307602        117.0   \n",
       "        2024-11-30 06:00:00+00:00   3685.905  45.580636        199.0   \n",
       "\n",
       "                                           vwap  \n",
       "symbol  timestamp                                \n",
       "BTC/USD 2024-11-29 06:00:00+00:00  97753.347379  \n",
       "        2024-11-30 06:00:00+00:00  96733.776897  \n",
       "ETH/USD 2024-11-29 06:00:00+00:00   3597.269545  \n",
       "        2024-11-30 06:00:00+00:00   3683.003964  "
      ]
     },
     "metadata": {},
     "output_type": "display_data"
    }
   ],
   "source": [
    "from alpaca.data.historical import CryptoHistoricalDataClient\n",
    "from alpaca.data.requests import CryptoBarsRequest\n",
    "from alpaca.data.timeframe import TimeFrame\n",
    "from datetime import datetime\n",
    "\n",
    "# no keys required for crypto data\n",
    "client = CryptoHistoricalDataClient()\n",
    "\n",
    "request_params = CryptoBarsRequest(\n",
    "                        symbol_or_symbols=[\"BTC/USD\", \"ETH/USD\"],\n",
    "                        timeframe=TimeFrame.Day,\n",
    "                        start=datetime(2024, 11, 29),\n",
    "                        end=datetime(2024, 12, 1)\n",
    "                 )\n",
    "\n",
    "bars = client.get_crypto_bars(request_params)\n",
    "\n",
    "# convert to dataframe\n",
    "display(bars.df)\n",
    "\n",
    "# access bars as list - important to note that you must access by symbol key\n",
    "# even for a single symbol request - models are agnostic to number of symbols"
   ]
  },
  {
   "cell_type": "code",
   "execution_count": 5,
   "metadata": {},
   "outputs": [
    {
     "name": "stdout",
     "output_type": "stream",
     "text": [
      "<class 'pandas.core.frame.DataFrame'>\n"
     ]
    }
   ],
   "source": [
    "print(type(bars.df))"
   ]
  },
  {
   "cell_type": "code",
   "execution_count": 10,
   "metadata": {},
   "outputs": [],
   "source": [
    "from alpaca.data.live import CryptoDataStream, StockDataStream, OptionDataStream\n",
    "\n",
    "# keys are required for live data\n",
    "crypto_stream = CryptoDataStream(api_key, secret_key)\n",
    "\n",
    "# keys required\n",
    "stock_stream = StockDataStream(api_key, secret_key)\n",
    "option_stream = OptionDataStream(api_key, secret_key)"
   ]
  },
  {
   "cell_type": "code",
   "execution_count": null,
   "metadata": {},
   "outputs": [],
   "source": [
    "from alpaca.data.live import StockDataStream\n",
    "\n",
    "\n",
    "wss_client = StockDataStream(api_key, secret_key)\n",
    "\n",
    "# async handler\n",
    "async def quote_data_handler(data):\n",
    "    # quote data will arrive here\n",
    "    print(data)\n",
    "\n",
    "wss_client.subscribe_quotes(quote_data_handler, \"SPY\")\n",
    "\n",
    "display(wss_client)\n",
    "\n",
    "# Doesn't work when market is closed\n",
    "wss_client.run()"
   ]
  }
 ],
 "metadata": {
  "kernelspec": {
   "display_name": ".venv",
   "language": "python",
   "name": "python3"
  },
  "language_info": {
   "codemirror_mode": {
    "name": "ipython",
    "version": 3
   },
   "file_extension": ".py",
   "mimetype": "text/x-python",
   "name": "python",
   "nbconvert_exporter": "python",
   "pygments_lexer": "ipython3",
   "version": "3.10.2"
  }
 },
 "nbformat": 4,
 "nbformat_minor": 2
}
