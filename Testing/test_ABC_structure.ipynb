{
 "cells": [
  {
   "cell_type": "code",
   "execution_count": null,
   "metadata": {
    "vscode": {
     "languageId": "plaintext"
    }
   },
   "outputs": [],
   "source": [
    "from abc import ABC, abstractmethod\n",
    "\n",
    "class TradingAPI(ABC):\n",
    "    \n",
    "    @abstractmethod\n",
    "    def get_market_data(self, symbol: str):\n",
    "        pass\n",
    "    \n",
    "    @abstractmethod\n",
    "    def place_order(self, symbol: str, quantity: int, order_type: str):\n",
    "        pass\n",
    "    \n",
    "    @abstractmethod\n",
    "    def get_order_status(self, order_id: str):\n",
    "        pass"
   ]
  },
  {
   "cell_type": "code",
   "execution_count": null,
   "metadata": {
    "vscode": {
     "languageId": "plaintext"
    }
   },
   "outputs": [],
   "source": [
    "class API1(TradingAPI):\n",
    "    \n",
    "    def get_market_data(self, symbol: str):\n",
    "        # Implementation for API1\n",
    "        pass\n",
    "    \n",
    "    def place_order(self, symbol: str, quantity: int, order_type: str):\n",
    "        # Implementation for API1\n",
    "        pass\n",
    "    \n",
    "    def get_order_status(self, order_id: str):\n",
    "        # Implementation for API1\n",
    "        pass\n",
    "\n",
    "\n",
    "class API2(TradingAPI):\n",
    "    \n",
    "    def get_market_data(self, symbol: str):\n",
    "        # Implementation for API2\n",
    "        pass\n",
    "    \n",
    "    def place_order(self, symbol: str, quantity: int, order_type: str):\n",
    "        # Implementation for API2\n",
    "        pass\n",
    "    \n",
    "    def get_order_status(self, order_id: str):\n",
    "        # Implementation for API2\n",
    "        pass\n"
   ]
  },
  {
   "cell_type": "code",
   "execution_count": null,
   "metadata": {
    "vscode": {
     "languageId": "plaintext"
    }
   },
   "outputs": [],
   "source": [
    "class TradingBot:\n",
    "    \n",
    "    def __init__(self, api: TradingAPI):\n",
    "        self.api = api\n",
    "    \n",
    "    def run(self):\n",
    "        # Example usage\n",
    "        data = self.api.get_market_data(\"AAPL\")\n",
    "        self.api.place_order(\"AAPL\", 10, \"buy\")\n",
    "        status = self.api.get_order_status(\"order123\")\n",
    "        # Add your trading logic here\n",
    "\n",
    "# Usage example\n",
    "api1 = API1()\n",
    "bot = TradingBot(api1)\n",
    "bot.run()\n",
    "\n",
    "api2 = API2()\n",
    "bot = TradingBot(api2)\n",
    "bot.run()"
   ]
  }
 ],
 "metadata": {
  "language_info": {
   "name": "python"
  }
 },
 "nbformat": 4,
 "nbformat_minor": 2
}
