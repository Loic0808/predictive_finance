{
 "cells": [
  {
   "cell_type": "code",
   "execution_count": 1,
   "metadata": {},
   "outputs": [],
   "source": [
    "# TradingEnv.py\n",
    "import numpy as np\n",
    "import gymnasium as gym\n",
    "from gymnasium import spaces\n",
    "import pandas as pd\n",
    "import matplotlib.pyplot as plt \n",
    "\n",
    "import yfinance as yf\n",
    "\n",
    "#from pybroker import YFinance\n",
    "#import pybroker\n",
    "#pybroker.enable_data_source_cache('yfinance')\n",
    "from stable_baselines3 import PPO"
   ]
  },
  {
   "cell_type": "code",
   "execution_count": 2,
   "metadata": {},
   "outputs": [],
   "source": [
    "class StockTradingEnv(gym.Env):\n",
    "    def __init__(self, data, initial_balance=10000, commission_fee=0.01, slippage_cost=0.1):\n",
    "        super(StockTradingEnv, self).__init__()\n",
    "        self.data = data\n",
    "        self.current_step = 0\n",
    "        self.initial_balance = initial_balance\n",
    "        self.balance = self.initial_balance\n",
    "        self.stock_owned = 0\n",
    "        self.date = data['date']\n",
    "        self.stock_price_history = data['adj_close']\n",
    "        self.commission_fee = commission_fee\n",
    "        self.slippage_cost = slippage_cost\n",
    "        \n",
    "        self.action_space = spaces.Box(low=np.array([-1, 0]), high=np.array([1, 1]), shape=(2,))  # (Action, Amount) where Action: -1: Buy, 0: Hold, 1: Sell\n",
    "        self.observation_space = spaces.Box(low=-np.inf, high=np.inf, shape=(1,))\n",
    "        \n",
    "        self.render_df = pd.DataFrame()\n",
    "        self.done = False\n",
    "        self.current_portfolio_value = initial_balance\n",
    "        \n",
    "    def reset(self, seed = None):\n",
    "        self.current_step = 0\n",
    "        self.balance = self.initial_balance\n",
    "        self.stock_owned = 0\n",
    "        self.done = False\n",
    "        self.current_portfolio_value = self.initial_balance\n",
    "        return self._get_observation(), {}\n",
    "    \n",
    "    def step(self, action):\n",
    "        assert self.action_space.contains(action)\n",
    "        prev_portfolio_value = self.balance if self.current_step == 0 else self.balance + self.stock_owned * self.stock_price_history[self.current_step - 1]\n",
    "        current_price = self.stock_price_history[self.current_step]    \n",
    "        amount = int(self.initial_balance * action[1] / current_price)\n",
    "    \n",
    "        if action[0] > 0:  # Buy\n",
    "            amount =  min( int(self.initial_balance * action[1] / current_price), int(self.balance / current_price * (1 + self.commission_fee + self.slippage_cost)))\n",
    "            if self.balance >= current_price * amount * (1 + self.commission_fee + self.slippage_cost):\n",
    "                self.stock_owned += amount\n",
    "                self.balance -= current_price * amount * (1 + self.commission_fee + self.slippage_cost)\n",
    "        elif action[0] < 0:  # Sell\n",
    "            amount = min(amount, self.stock_owned)\n",
    "            if self.stock_owned > 0:\n",
    "                self.stock_owned -= amount\n",
    "                self.balance += current_price * amount * (1 - self.commission_fee - self.slippage_cost)\n",
    "        \n",
    "        current_portfolio_value = self.balance + self.stock_owned * current_price\n",
    "        excess_return = current_portfolio_value - prev_portfolio_value \n",
    "        risk_free_rate = 0.02  # Example risk-free rate\n",
    "        std_deviation = np.std(self.stock_price_history[:self.current_step + 1])\n",
    "        sharpe_ratio = (excess_return - risk_free_rate) / std_deviation if std_deviation != 0 else 0\n",
    "        reward = sharpe_ratio\n",
    "         \n",
    "        self.render(action, amount, current_portfolio_value)\n",
    "        obs = self._get_observation()\n",
    "        \n",
    "        self.current_step += 1\n",
    "        \n",
    "        if self.current_step == len(self.data['adj_close']):\n",
    "            done = True\n",
    "        else:\n",
    "            done = False\n",
    "        \n",
    "        self.done = done\n",
    "\n",
    "        info = {}  \n",
    "        return obs, reward, done, False,info\n",
    "    \n",
    "    \n",
    "    def _get_observation(self):\n",
    "        return np.array([\n",
    "            self.stock_price_history[self.current_step]\n",
    "        ])\n",
    "    \n",
    "    def render(self, action, amount, current_portfolio_value, mode = None):\n",
    "        current_date = self.date[self.current_step]\n",
    "        today_action =  'buy' if action[0] > 0 else 'sell'\n",
    "        current_price = self.stock_price_history[self.current_step]\n",
    "        \n",
    "        if mode == 'human':\n",
    "            print(f\"Step:{self.current_step}, Date: {current_date}, Market Value: {current_portfolio_value:.2f}, Balance: {self.balance:.2f}, Stock Owned: {self.stock_owned}, Stock Price: {current_price:.2f}, Today Action: {today_action}:{amount}\")\n",
    "        else:\n",
    "            pass\n",
    "        dict = {\n",
    "            'Date': [current_date], 'market_value': [current_portfolio_value], 'balance': [self.balance], 'stock_owned': [self.stock_owned], 'price': [current_price], 'action': [today_action], 'amount':[amount]\n",
    "        }\n",
    "        step_df = pd.DataFrame.from_dict(dict)\n",
    "        self.render_df = pd.concat([self.render_df, step_df], ignore_index=True)\n",
    "    \n",
    "    def render_all(self):\n",
    "        df = self.render_df.set_index('Date')       \n",
    "        fig, ax = plt.subplots(figsize=(18, 6)) \n",
    "        df.plot( y=\"market_value\" , use_index=True,  ax = ax, style='--' , color='lightgrey') \n",
    "        df.plot( y=\"price\" , use_index=True,  ax = ax , secondary_y = True , color='black')\n",
    "         \n",
    "        for idx in df.index.tolist():\n",
    "            if (df.loc[idx]['action'] == 'buy') & (df.loc[idx]['amount'] > 0):\n",
    "                plt.plot(\n",
    "                    idx,\n",
    "                    df.loc[idx][\"price\"] - 1,\n",
    "                    'g^'\n",
    "                )\n",
    "                plt.text(idx, df.loc[idx][\"price\"]- 3, df.loc[idx]['amount'] , c= 'green',fontsize=8, horizontalalignment='center', verticalalignment='center')\n",
    "            elif (df.loc[idx]['action'] == 'sell') & (df.loc[idx]['amount'] > 0):\n",
    "                plt.plot(\n",
    "                    idx,\n",
    "                    df.loc[idx][\"price\"] + 1,\n",
    "                    'rv'\n",
    "                    )\n",
    "                plt.text(idx, df.loc[idx][\"price\"] + 3, df.loc[idx]['amount'], c= 'red',fontsize=8, horizontalalignment='center', verticalalignment='center')        "
   ]
  },
  {
   "cell_type": "code",
   "execution_count": null,
   "metadata": {},
   "outputs": [],
   "source": [
    "df_train = yf.download(\"MSFT\", start=\"2024-10-19\", end=\"2024-11-16\", interval='15m')\n",
    "\n",
    "df_train.columns = df_train.columns.droplevel(1)\n",
    "df_train.reset_index(inplace=True)\n",
    "\n",
    "df_train = df_train.rename(columns={\"Datetime\": \"date\", \"Adj Close\": \"adj_close\"})"
   ]
  },
  {
   "cell_type": "code",
   "execution_count": null,
   "metadata": {},
   "outputs": [],
   "source": [
    "display(df_train)"
   ]
  },
  {
   "cell_type": "code",
   "execution_count": 5,
   "metadata": {},
   "outputs": [],
   "source": [
    "env_train = StockTradingEnv(df_train, initial_balance=100000, commission_fee=0.0001, slippage_cost=0.005)"
   ]
  },
  {
   "cell_type": "code",
   "execution_count": null,
   "metadata": {},
   "outputs": [],
   "source": [
    "model = PPO(\"MlpPolicy\", env_train, verbose=0)\n",
    "model.learn(total_timesteps=100_000, progress_bar=True)\n",
    "#model.save(\"ppo_aapl\")"
   ]
  },
  {
   "cell_type": "code",
   "execution_count": null,
   "metadata": {},
   "outputs": [],
   "source": [
    "display(env_train.render_df)"
   ]
  },
  {
   "cell_type": "code",
   "execution_count": 9,
   "metadata": {},
   "outputs": [],
   "source": [
    "model.save(\"ppo_msft_v1\")"
   ]
  },
  {
   "cell_type": "code",
   "execution_count": null,
   "metadata": {},
   "outputs": [],
   "source": [
    "df_test = yf.download(\"MSFT\", start=\"2024-11-13\", end=\"2024-12-13\", interval='15m')\n",
    "\n",
    "df_test.columns = df_test.columns.droplevel(1)\n",
    "df_test.reset_index(inplace=True)\n",
    "\n",
    "df_test = df_test.rename(columns={\"Datetime\": \"date\", \"Adj Close\": \"adj_close\"})"
   ]
  },
  {
   "cell_type": "code",
   "execution_count": 11,
   "metadata": {},
   "outputs": [],
   "source": [
    "env_test = StockTradingEnv(df_test, initial_balance=100000, commission_fee=0.0001, slippage_cost=0.005)\n",
    "\n",
    "model = PPO.load(\"ppo_msft_v1\", env=env_test)\n",
    "\n",
    "vec_env = model.get_env()\n",
    "obs = vec_env.reset()\n",
    "for i in range(len(df_test['adj_close'])):\n",
    "    action, _state = model.predict(obs)\n",
    "    obs, reward, done, info = vec_env.step(action)"
   ]
  },
  {
   "cell_type": "code",
   "execution_count": null,
   "metadata": {},
   "outputs": [],
   "source": [
    "env_test.render_all()"
   ]
  }
 ],
 "metadata": {
  "kernelspec": {
   "display_name": ".venv",
   "language": "python",
   "name": "python3"
  },
  "language_info": {
   "codemirror_mode": {
    "name": "ipython",
    "version": 3
   },
   "file_extension": ".py",
   "mimetype": "text/x-python",
   "name": "python",
   "nbconvert_exporter": "python",
   "pygments_lexer": "ipython3",
   "version": "3.10.2"
  }
 },
 "nbformat": 4,
 "nbformat_minor": 2
}
