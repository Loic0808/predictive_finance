{
 "cells": [
  {
   "cell_type": "code",
   "execution_count": 1,
   "metadata": {},
   "outputs": [],
   "source": [
    "#%pip install yfinance \n",
    "#%pip install plotly\n",
    "#%pip install nbformat"
   ]
  },
  {
   "cell_type": "code",
   "execution_count": 2,
   "metadata": {},
   "outputs": [],
   "source": [
    "import numpy as np \n",
    "import pandas as pd\n",
    "from pandas_datareader import data as pdr \n",
    "\n",
    "import yfinance as yf"
   ]
  },
  {
   "cell_type": "code",
   "execution_count": 3,
   "metadata": {},
   "outputs": [],
   "source": [
    "import matplotlib.pyplot as plt\n",
    "from datetime import datetime"
   ]
  },
  {
   "cell_type": "code",
   "execution_count": 4,
   "metadata": {},
   "outputs": [],
   "source": [
    "import plotly.graph_objs as go"
   ]
  },
  {
   "cell_type": "code",
   "execution_count": 12,
   "metadata": {},
   "outputs": [],
   "source": [
    "msft = yf.Ticker(\"msft\")"
   ]
  },
  {
   "cell_type": "code",
   "execution_count": 13,
   "metadata": {},
   "outputs": [],
   "source": [
    "stock_info = msft.info\n",
    "df = msft.history(period='1y')"
   ]
  },
  {
   "cell_type": "code",
   "execution_count": 14,
   "metadata": {},
   "outputs": [
    {
     "data": {
      "text/html": [
       "<div>\n",
       "<style scoped>\n",
       "    .dataframe tbody tr th:only-of-type {\n",
       "        vertical-align: middle;\n",
       "    }\n",
       "\n",
       "    .dataframe tbody tr th {\n",
       "        vertical-align: top;\n",
       "    }\n",
       "\n",
       "    .dataframe thead th {\n",
       "        text-align: right;\n",
       "    }\n",
       "</style>\n",
       "<table border=\"1\" class=\"dataframe\">\n",
       "  <thead>\n",
       "    <tr style=\"text-align: right;\">\n",
       "      <th></th>\n",
       "      <th>Open</th>\n",
       "      <th>High</th>\n",
       "      <th>Low</th>\n",
       "      <th>Close</th>\n",
       "      <th>Volume</th>\n",
       "      <th>Dividends</th>\n",
       "      <th>Stock Splits</th>\n",
       "    </tr>\n",
       "    <tr>\n",
       "      <th>Date</th>\n",
       "      <th></th>\n",
       "      <th></th>\n",
       "      <th></th>\n",
       "      <th></th>\n",
       "      <th></th>\n",
       "      <th></th>\n",
       "      <th></th>\n",
       "    </tr>\n",
       "  </thead>\n",
       "  <tbody>\n",
       "    <tr>\n",
       "      <th>2023-11-08 00:00:00-05:00</th>\n",
       "      <td>358.985415</td>\n",
       "      <td>361.159102</td>\n",
       "      <td>357.863829</td>\n",
       "      <td>360.494110</td>\n",
       "      <td>26767800</td>\n",
       "      <td>0.0</td>\n",
       "      <td>0.0</td>\n",
       "    </tr>\n",
       "    <tr>\n",
       "      <th>2023-11-09 00:00:00-05:00</th>\n",
       "      <td>359.600798</td>\n",
       "      <td>362.072268</td>\n",
       "      <td>357.675249</td>\n",
       "      <td>358.002808</td>\n",
       "      <td>24847300</td>\n",
       "      <td>0.0</td>\n",
       "      <td>0.0</td>\n",
       "    </tr>\n",
       "    <tr>\n",
       "      <th>2023-11-10 00:00:00-05:00</th>\n",
       "      <td>358.796843</td>\n",
       "      <td>367.342713</td>\n",
       "      <td>358.379989</td>\n",
       "      <td>366.915924</td>\n",
       "      <td>28042100</td>\n",
       "      <td>0.0</td>\n",
       "      <td>0.0</td>\n",
       "    </tr>\n",
       "    <tr>\n",
       "      <th>2023-11-13 00:00:00-05:00</th>\n",
       "      <td>365.476716</td>\n",
       "      <td>365.724854</td>\n",
       "      <td>363.173993</td>\n",
       "      <td>363.948181</td>\n",
       "      <td>19986500</td>\n",
       "      <td>0.0</td>\n",
       "      <td>0.0</td>\n",
       "    </tr>\n",
       "    <tr>\n",
       "      <th>2023-11-14 00:00:00-05:00</th>\n",
       "      <td>368.245921</td>\n",
       "      <td>369.178920</td>\n",
       "      <td>364.613185</td>\n",
       "      <td>367.511414</td>\n",
       "      <td>27683900</td>\n",
       "      <td>0.0</td>\n",
       "      <td>0.0</td>\n",
       "    </tr>\n",
       "    <tr>\n",
       "      <th>...</th>\n",
       "      <td>...</td>\n",
       "      <td>...</td>\n",
       "      <td>...</td>\n",
       "      <td>...</td>\n",
       "      <td>...</td>\n",
       "      <td>...</td>\n",
       "      <td>...</td>\n",
       "    </tr>\n",
       "    <tr>\n",
       "      <th>2024-11-01 00:00:00-04:00</th>\n",
       "      <td>409.010010</td>\n",
       "      <td>415.500000</td>\n",
       "      <td>407.500000</td>\n",
       "      <td>410.369995</td>\n",
       "      <td>24230400</td>\n",
       "      <td>0.0</td>\n",
       "      <td>0.0</td>\n",
       "    </tr>\n",
       "    <tr>\n",
       "      <th>2024-11-04 00:00:00-05:00</th>\n",
       "      <td>409.799988</td>\n",
       "      <td>410.420013</td>\n",
       "      <td>405.570007</td>\n",
       "      <td>408.459991</td>\n",
       "      <td>19672300</td>\n",
       "      <td>0.0</td>\n",
       "      <td>0.0</td>\n",
       "    </tr>\n",
       "    <tr>\n",
       "      <th>2024-11-05 00:00:00-05:00</th>\n",
       "      <td>408.369995</td>\n",
       "      <td>414.899994</td>\n",
       "      <td>408.079987</td>\n",
       "      <td>411.459991</td>\n",
       "      <td>17626000</td>\n",
       "      <td>0.0</td>\n",
       "      <td>0.0</td>\n",
       "    </tr>\n",
       "    <tr>\n",
       "      <th>2024-11-06 00:00:00-05:00</th>\n",
       "      <td>412.420013</td>\n",
       "      <td>420.450012</td>\n",
       "      <td>410.519989</td>\n",
       "      <td>420.179993</td>\n",
       "      <td>26681800</td>\n",
       "      <td>0.0</td>\n",
       "      <td>0.0</td>\n",
       "    </tr>\n",
       "    <tr>\n",
       "      <th>2024-11-07 00:00:00-05:00</th>\n",
       "      <td>421.279999</td>\n",
       "      <td>426.850006</td>\n",
       "      <td>419.880005</td>\n",
       "      <td>425.429993</td>\n",
       "      <td>19862800</td>\n",
       "      <td>0.0</td>\n",
       "      <td>0.0</td>\n",
       "    </tr>\n",
       "  </tbody>\n",
       "</table>\n",
       "<p>252 rows × 7 columns</p>\n",
       "</div>"
      ],
      "text/plain": [
       "                                 Open        High         Low       Close  \\\n",
       "Date                                                                        \n",
       "2023-11-08 00:00:00-05:00  358.985415  361.159102  357.863829  360.494110   \n",
       "2023-11-09 00:00:00-05:00  359.600798  362.072268  357.675249  358.002808   \n",
       "2023-11-10 00:00:00-05:00  358.796843  367.342713  358.379989  366.915924   \n",
       "2023-11-13 00:00:00-05:00  365.476716  365.724854  363.173993  363.948181   \n",
       "2023-11-14 00:00:00-05:00  368.245921  369.178920  364.613185  367.511414   \n",
       "...                               ...         ...         ...         ...   \n",
       "2024-11-01 00:00:00-04:00  409.010010  415.500000  407.500000  410.369995   \n",
       "2024-11-04 00:00:00-05:00  409.799988  410.420013  405.570007  408.459991   \n",
       "2024-11-05 00:00:00-05:00  408.369995  414.899994  408.079987  411.459991   \n",
       "2024-11-06 00:00:00-05:00  412.420013  420.450012  410.519989  420.179993   \n",
       "2024-11-07 00:00:00-05:00  421.279999  426.850006  419.880005  425.429993   \n",
       "\n",
       "                             Volume  Dividends  Stock Splits  \n",
       "Date                                                          \n",
       "2023-11-08 00:00:00-05:00  26767800        0.0           0.0  \n",
       "2023-11-09 00:00:00-05:00  24847300        0.0           0.0  \n",
       "2023-11-10 00:00:00-05:00  28042100        0.0           0.0  \n",
       "2023-11-13 00:00:00-05:00  19986500        0.0           0.0  \n",
       "2023-11-14 00:00:00-05:00  27683900        0.0           0.0  \n",
       "...                             ...        ...           ...  \n",
       "2024-11-01 00:00:00-04:00  24230400        0.0           0.0  \n",
       "2024-11-04 00:00:00-05:00  19672300        0.0           0.0  \n",
       "2024-11-05 00:00:00-05:00  17626000        0.0           0.0  \n",
       "2024-11-06 00:00:00-05:00  26681800        0.0           0.0  \n",
       "2024-11-07 00:00:00-05:00  19862800        0.0           0.0  \n",
       "\n",
       "[252 rows x 7 columns]"
      ]
     },
     "metadata": {},
     "output_type": "display_data"
    }
   ],
   "source": [
    "display(df)"
   ]
  },
  {
   "cell_type": "code",
   "execution_count": 15,
   "metadata": {},
   "outputs": [],
   "source": [
    "data = df[\"Close\"]"
   ]
  },
  {
   "cell_type": "code",
   "execution_count": 16,
   "metadata": {},
   "outputs": [
    {
     "name": "stdout",
     "output_type": "stream",
     "text": [
      "(252,)\n"
     ]
    }
   ],
   "source": [
    "print(data.shape)"
   ]
  },
  {
   "cell_type": "code",
   "execution_count": 17,
   "metadata": {},
   "outputs": [
    {
     "data": {
      "image/png": "[encoded data removed]",
      "text/plain": [
       "<Figure size 640x480 with 1 Axes>"
      ]
     },
     "metadata": {},
     "output_type": "display_data"
    }
   ],
   "source": [
    "plt.figure()\n",
    "plt.plot(df[\"Close\"])\n",
    "plt.show()"
   ]
  },
  {
   "cell_type": "code",
   "execution_count": null,
   "metadata": {},
   "outputs": [],
   "source": [
    "\"\"\"stock_info = msft.info\n",
    "\n",
    "for key, value in stock_info.items():\n",
    "    print(key, \":\" , value)\"\"\"\n",
    "\n",
    "#print(msft.recommendations)\n",
    "#print(msft.major_holders)\n",
    "#print(msft.institutional_holders)"
   ]
  },
  {
   "cell_type": "markdown",
   "metadata": {},
   "source": [
    "Testting the algorithm"
   ]
  },
  {
   "cell_type": "code",
   "execution_count": 18,
   "metadata": {},
   "outputs": [],
   "source": [
    "import numpy as np\n",
    "import scipy as sp\n",
    "from matplotlib import pyplot as plt\n",
    "from scipy import linalg\n",
    "\n",
    "import pandas as pd\n",
    "import pandas_datareader.data as web"
   ]
  },
  {
   "cell_type": "code",
   "execution_count": 19,
   "metadata": {},
   "outputs": [],
   "source": [
    "d=2\n",
    "M=150\n",
    "\n",
    "# Matrix with ones on the lower side diagonal (starting from position 2)\n",
    "def nilpotent(M):\n",
    "    B = np.zeros((M,M))\n",
    "    for i in range(2,M):\n",
    "        B[i,i-1]=1.0\n",
    "    return B\n",
    "\n",
    "# Vectors e_i\n",
    "def canonical(i,M):\n",
    "    e = np.zeros((M,1))\n",
    "    e[i,0]=1.0\n",
    "    return e"
   ]
  },
  {
   "cell_type": "code",
   "execution_count": 20,
   "metadata": {},
   "outputs": [],
   "source": [
    "def randomAbeta(d,M):\n",
    "    A = []\n",
    "    beta = []\n",
    "    for i in range(d):\n",
    "        B = 0.0*nilpotent(M) + np.random.normal(0.0,0.03,size=(M,M))\n",
    "        B = np.random.permutation(B)\n",
    "        A = A + [B]\n",
    "        beta = beta + [0.0*canonical(i,M)+np.random.normal(0.0,0.03,size=(M,1))]\n",
    "    return [A,beta]"
   ]
  },
  {
   "cell_type": "code",
   "execution_count": 21,
   "metadata": {},
   "outputs": [],
   "source": [
    "Abeta = randomAbeta(d,M)\n",
    "A = Abeta[0]\n",
    "beta = Abeta[1]\n",
    "\n",
    "def sigmoid(x):\n",
    "    return np.tanh(x)\n",
    "\n",
    "# Reservoirfield approximates a vector field \n",
    "def reservoirfield(state,increment):\n",
    "    value = np.zeros((M,1))\n",
    "    for i in range(d):\n",
    "        value = value + sigmoid(np.matmul(A[i],state) + beta[i])*increment[i]\n",
    "    return value"
   ]
  },
  {
   "cell_type": "code",
   "execution_count": 22,
   "metadata": {},
   "outputs": [],
   "source": [
    "lrets = np.log(data/data.shift(1)).dropna()"
   ]
  },
  {
   "cell_type": "code",
   "execution_count": 24,
   "metadata": {},
   "outputs": [],
   "source": [
    "\"\"\"\n",
    "The code calculates the rolling covariance matrix over a 30-period window for the dataset lrets and then removes any NaN values that might \n",
    "appear (usually at the start or end of the rolling window). The result is stored in the variable Omega.\n",
    "This operation is commonly used in financial data analysis to calculate dynamic relationships between multiple time series, \n",
    "such as stock returns, over a moving window.\n",
    "\"\"\"\n",
    "\n",
    "Omega = (lrets\n",
    "         .rolling(30)\n",
    "         .cov()\n",
    "         .dropna())"
   ]
  },
  {
   "cell_type": "code",
   "execution_count": 25,
   "metadata": {},
   "outputs": [
    {
     "name": "stdout",
     "output_type": "stream",
     "text": [
      "0.0001349976306904728\n"
     ]
    }
   ],
   "source": [
    "print(Omega.loc['2023-12-21 00:00:00-05:00'])"
   ]
  },
  {
   "cell_type": "code",
   "execution_count": 26,
   "metadata": {},
   "outputs": [],
   "source": [
    "dates = lrets.index\n",
    "dates = dates[30:]"
   ]
  },
  {
   "cell_type": "code",
   "execution_count": 27,
   "metadata": {},
   "outputs": [],
   "source": [
    "covdata = dict(zip(dates, [Omega.loc[date] for date in dates]))"
   ]
  },
  {
   "cell_type": "code",
   "execution_count": 28,
   "metadata": {},
   "outputs": [],
   "source": [
    "marketBM = dict(zip(dates, [1/(np.sqrt(Omega.loc[date]))*lrets.loc[date] for date in dates]))"
   ]
  },
  {
   "cell_type": "code",
   "execution_count": 29,
   "metadata": {},
   "outputs": [
    {
     "data": {
      "image/png": "[encoded data removed]",
      "text/plain": [
       "<Figure size 640x480 with 1 Axes>"
      ]
     },
     "metadata": {},
     "output_type": "display_data"
    },
    {
     "name": "stdout",
     "output_type": "stream",
     "text": [
      "1.0275535009214034\n",
      "0.06302490067142208\n"
     ]
    }
   ],
   "source": [
    "plt.plot([marketBM[date] for date in dates])\n",
    "plt.show()\n",
    "print(np.std(np.array([marketBM[date] for date in dates])))\n",
    "print(np.mean(np.array([marketBM[date] for date in dates])))"
   ]
  },
  {
   "cell_type": "code",
   "execution_count": 30,
   "metadata": {},
   "outputs": [
    {
     "name": "stdout",
     "output_type": "stream",
     "text": [
      "0.24123104989600544\n",
      "0.020049134851243645\n",
      "-0.14955298906477973\n",
      "0.3101506178496298\n",
      "0.19422864112638222\n",
      "-1.3527716089042015\n",
      "-0.07468886151081675\n",
      "-0.7960212750579252\n",
      "-0.058583841723526285\n",
      "2.035593193861965\n",
      "0.3185878530503533\n",
      "1.8793537937054638\n",
      "0.5031294059125951\n",
      "1.0356137000490007\n",
      "0.4807381127563642\n",
      "-0.21980302610028957\n",
      "1.2463701606313458\n",
      "1.329767917850366\n",
      "-0.6082395885772143\n",
      "0.6725967450912426\n",
      "1.0212897050508705\n",
      "0.6542619201067501\n",
      "-0.2661091552425434\n",
      "1.5857211383630336\n",
      "-0.3617899378757119\n",
      "-2.937012538562153\n",
      "1.6127627994085065\n",
      "1.8250936441920647\n",
      "-1.3235912736359248\n",
      "-0.0383884182088525\n",
      "1.9341074705773422\n",
      "0.013411646428435887\n",
      "1.4054499466913566\n",
      "-1.111449097827367\n",
      "-1.7723503210946263\n",
      "0.8056072253841481\n",
      "-0.5947630339368956\n",
      "-0.5121156339567123\n",
      "-0.2605638076908656\n",
      "-0.1290924303792558\n",
      "1.8855832778551198\n",
      "-0.264608743825773\n",
      "-0.5634479474603117\n",
      "-0.012198540423341387\n",
      "0.048855908929903956\n",
      "1.1760979103917926\n",
      "0.36943004764734666\n",
      "-0.11639991663128059\n",
      "-2.2644825225616043\n",
      "-0.10527419289368468\n",
      "1.2882203135862202\n",
      "-0.5294200047460871\n",
      "-0.3096113074581723\n",
      "1.8563060062569396\n",
      "-0.030677092222994244\n",
      "1.752993528350329\n",
      "-1.479157944392622\n",
      "0.15684920935273383\n",
      "0.7174247821605833\n",
      "0.6605340593035416\n",
      "0.7304085405272112\n",
      "-0.11062425680777578\n",
      "-1.0409123886233091\n",
      "-0.2194584937709996\n",
      "-0.04221842926413091\n",
      "-0.13741576617762183\n",
      "0.7429455776236358\n",
      "-0.6020901444010627\n",
      "-0.19151764671257104\n",
      "-0.4965741540626543\n",
      "1.5019133936740594\n",
      "-0.18153746098563922\n",
      "0.3319685510587715\n",
      "-0.5892124383371583\n",
      "0.8998042981644025\n",
      "-1.155890828616829\n",
      "-1.5442146131319732\n",
      "0.1772031885432322\n",
      "-0.5729656365358435\n",
      "-1.5338480433154837\n",
      "-1.0802156921294903\n",
      "0.38826050486794783\n",
      "1.3391600332232996\n",
      "0.3256358794381669\n",
      "-2.057730763390707\n",
      "1.550667468023742\n",
      "-0.8991970294572719\n",
      "-2.5990719904103465\n",
      "1.1231424664231484\n",
      "0.5765218001270724\n",
      "1.6524854263555175\n",
      "1.224860804886185\n",
      "-0.7507118156707667\n",
      "0.21504379030780657\n",
      "0.3170358731056045\n",
      "0.4272339545354374\n",
      "-0.18131799116295444\n",
      "0.5032826437404477\n",
      "1.2411618482129791\n",
      "-0.3550429980235439\n",
      "-0.13697679737252072\n",
      "0.8841818747804924\n",
      "0.6278301656596663\n",
      "0.2507116509744526\n",
      "-0.5999783011491976\n",
      "0.5470660340494207\n",
      "0.0287984105768283\n",
      "-0.2069256813464113\n",
      "-2.3837494147795266\n",
      "0.07934770167443711\n",
      "-0.28234879434729854\n",
      "0.4461777325488283\n",
      "1.3616980545545305\n",
      "0.08662904225304961\n",
      "-0.12159664300512023\n",
      "0.7424266261631549\n",
      "0.8855811086533665\n",
      "1.7275629500127507\n",
      "0.10760622459564623\n",
      "0.20483625026649419\n",
      "1.2362581510391892\n",
      "-0.44017594505527846\n",
      "-0.1427113251013737\n",
      "0.9006035749552367\n",
      "-0.46034900257568717\n",
      "0.7134112714618343\n",
      "0.2631345666862895\n",
      "0.1500670054507658\n",
      "-1.2876635235669525\n",
      "2.0196497095294457\n",
      "0.52063082553388\n",
      "0.3069092286710614\n",
      "1.3639721828251563\n",
      "-0.2623956180118117\n",
      "-1.3099677370531295\n",
      "1.290366803598981\n",
      "-2.0354989168631135\n",
      "-0.20552526551968203\n",
      "0.08809633846689548\n",
      "-0.9344588110992135\n",
      "-1.2371329185818862\n",
      "-0.6496762045334031\n",
      "-0.7002898633474037\n",
      "1.2219029930251204\n",
      "0.39692768523952743\n",
      "-2.8590972678787776\n",
      "-1.854220103316112\n",
      "1.2314520101712778\n",
      "0.2587472588517391\n",
      "-0.6740631725609546\n",
      "-0.828185892088739\n",
      "-0.22638430771700818\n",
      "-1.5418152499029945\n",
      "-2.301838989739839\n",
      "0.7635190554337343\n",
      "-0.20322075841618034\n",
      "0.7209750448833836\n",
      "0.5532346118341066\n",
      "0.13125896074324497\n",
      "1.2024942409610828\n",
      "0.4692847054380278\n",
      "0.7926349545284469\n",
      "-0.4217522863094606\n",
      "0.4991061586081816\n",
      "0.5302133326658302\n",
      "-0.10936466237493148\n",
      "-1.4621539223000415\n",
      "0.21229482979337144\n",
      "-0.5658346440397078\n",
      "0.060409583879666696\n",
      "-0.5656510521895327\n",
      "0.43848567609890954\n",
      "0.6879463081735627\n",
      "-1.318771010701948\n",
      "-0.09379369451160623\n",
      "-0.0994955421491075\n",
      "-1.3652347252981882\n",
      "0.8414888630171075\n",
      "1.6570672147535426\n",
      "1.6228412742051768\n",
      "0.7195010779616535\n",
      "0.6438790354070189\n",
      "0.14124451125439408\n",
      "0.8423015229012196\n",
      "-0.9454310864701442\n",
      "1.6602559608231593\n",
      "-0.7109900245988982\n",
      "-0.36760584277727276\n",
      "-0.8944950163367602\n",
      "0.6264801467749355\n",
      "-0.17054904114363814\n",
      "-0.7094846759074545\n",
      "0.4941487230380728\n",
      "-1.964117091902648\n",
      "-0.7388617174070565\n",
      "-0.12306390013267263\n",
      "-0.10602546717486656\n",
      "-1.405932150037285\n",
      "1.1010850791933418\n",
      "0.5769929517976783\n",
      "-0.3416678446499213\n",
      "0.10182077234927647\n",
      "0.5996198315256578\n",
      "-0.08932745181193157\n",
      "-0.5832940079214995\n",
      "0.13396102024920287\n",
      "0.33615647296007944\n",
      "0.14622330793523358\n",
      "2.036982290373182\n",
      "-0.7201377206307307\n",
      "0.032830906250307906\n",
      "0.8610875139897796\n",
      "-0.39135547810202936\n",
      "1.3177795505478362\n",
      "0.14433521120297152\n",
      "-4.384365038375846\n",
      "0.6845881744073089\n",
      "-0.32434672564491795\n",
      "0.5082937375420873\n",
      "1.40761050004597\n",
      "0.8226215518427475\n"
     ]
    }
   ],
   "source": [
    "for l in dates:\n",
    "    print(marketBM[l])"
   ]
  },
  {
   "cell_type": "code",
   "execution_count": 31,
   "metadata": {},
   "outputs": [],
   "source": [
    "\n",
    "BMmarketpath = 1/250*np.ones((len(dates)))\n",
    "mean = np.mean([marketBM[l] for l in dates])"
   ]
  },
  {
   "cell_type": "code",
   "execution_count": 32,
   "metadata": {},
   "outputs": [
    {
     "name": "stdout",
     "output_type": "stream",
     "text": [
      "[0.004 0.004 0.004 0.004 0.004 0.004 0.004 0.004 0.004 0.004 0.004 0.004\n",
      " 0.004 0.004 0.004 0.004 0.004 0.004 0.004 0.004 0.004 0.004 0.004 0.004\n",
      " 0.004 0.004 0.004 0.004 0.004 0.004 0.004 0.004 0.004 0.004 0.004 0.004\n",
      " 0.004 0.004 0.004 0.004 0.004 0.004 0.004 0.004 0.004 0.004 0.004 0.004\n",
      " 0.004 0.004 0.004 0.004 0.004 0.004 0.004 0.004 0.004 0.004 0.004 0.004\n",
      " 0.004 0.004 0.004 0.004 0.004 0.004 0.004 0.004 0.004 0.004 0.004 0.004\n",
      " 0.004 0.004 0.004 0.004 0.004 0.004 0.004 0.004 0.004 0.004 0.004 0.004\n",
      " 0.004 0.004 0.004 0.004 0.004 0.004 0.004 0.004 0.004 0.004 0.004 0.004\n",
      " 0.004 0.004 0.004 0.004 0.004 0.004 0.004 0.004 0.004 0.004 0.004 0.004\n",
      " 0.004 0.004 0.004 0.004 0.004 0.004 0.004 0.004 0.004 0.004 0.004 0.004\n",
      " 0.004 0.004 0.004 0.004 0.004 0.004 0.004 0.004 0.004 0.004 0.004 0.004\n",
      " 0.004 0.004 0.004 0.004 0.004 0.004 0.004 0.004 0.004 0.004 0.004 0.004\n",
      " 0.004 0.004 0.004 0.004 0.004 0.004 0.004 0.004 0.004 0.004 0.004 0.004\n",
      " 0.004 0.004 0.004 0.004 0.004 0.004 0.004 0.004 0.004 0.004 0.004 0.004\n",
      " 0.004 0.004 0.004 0.004 0.004 0.004 0.004 0.004 0.004 0.004 0.004 0.004\n",
      " 0.004 0.004 0.004 0.004 0.004 0.004 0.004 0.004 0.004 0.004 0.004 0.004\n",
      " 0.004 0.004 0.004 0.004 0.004 0.004 0.004 0.004 0.004 0.004 0.004 0.004\n",
      " 0.004 0.004 0.004 0.004 0.004 0.004 0.004 0.004 0.004 0.004 0.004 0.004\n",
      " 0.004 0.004 0.004 0.004 0.004]\n"
     ]
    }
   ],
   "source": [
    "print(BMmarketpath)"
   ]
  },
  {
   "cell_type": "code",
   "execution_count": 33,
   "metadata": {},
   "outputs": [
    {
     "data": {
      "image/png": "[encoded data removed]",
      "text/plain": [
       "<Figure size 640x480 with 1 Axes>"
      ]
     },
     "metadata": {},
     "output_type": "display_data"
    }
   ],
   "source": [
    "BMmarketpath = np.cumsum([np.sqrt(1/250)*(marketBM[date]-0.*mean)\n",
    "                                                   for date in dates])\n",
    "#BMmarketpath[:,K]= np.cumsum(BMmarketpath[:,K])\n",
    "plt.plot(BMmarketpath)\n",
    "plt.show()"
   ]
  },
  {
   "cell_type": "code",
   "execution_count": null,
   "metadata": {},
   "outputs": [],
   "source": [
    "print(BMmarketpath)"
   ]
  },
  {
   "cell_type": "code",
   "execution_count": null,
   "metadata": {},
   "outputs": [],
   "source": [
    "from sklearn import linear_model\n",
    "import pandas as pd\n",
    "lm = linear_model.Ridge(alpha=0.05)#\n",
    "model = lm.fit(Xtrain,Ytrain)\n",
    "plt.plot(model.predict(Xtrain),'r')\n",
    "plt.plot(Ytrain,'b')\n",
    "plt.show()\n",
    "model.score(Xtrain,Ytrain)\n",
    "model.coef_"
   ]
  }
 ],
 "metadata": {
  "kernelspec": {
   "display_name": "Python 3",
   "language": "python",
   "name": "python3"
  },
  "language_info": {
   "codemirror_mode": {
    "name": "ipython",
    "version": 3
   },
   "file_extension": ".py",
   "mimetype": "text/x-python",
   "name": "python",
   "nbconvert_exporter": "python",
   "pygments_lexer": "ipython3",
   "version": "3.10.2"
  }
 },
 "nbformat": 4,
 "nbformat_minor": 2
}
