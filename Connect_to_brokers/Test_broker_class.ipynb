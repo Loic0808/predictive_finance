{
 "cells": [
  {
   "cell_type": "code",
   "execution_count": 5,
   "metadata": {},
   "outputs": [],
   "source": [
    "from Alpaca_class import AlpacaGetData, AlpacaTradingClass\n",
    "\n",
    "api_key = \"PKAG0XBVFXJPXPXBWPGW\"\n",
    "secret_key = \"pjp69zCQBSUziTzXEjZ9DagW04sni7Jg99QKH6TH\"\n",
    "\n",
    "asset_class = \"us_equity\"\n",
    "\n",
    "alpaca_data_loader = AlpacaGetData([api_key, secret_key], asset_class)"
   ]
  },
  {
   "cell_type": "code",
   "execution_count": 8,
   "metadata": {},
   "outputs": [],
   "source": [
    "dataF = alpaca_data_loader.get_historical_market_data([\"MSFT\"], \"Hour\", \"2024-11-18 15:30:00\", \"2024-11-18 16:30:00\")"
   ]
  },
  {
   "cell_type": "code",
   "execution_count": 9,
   "metadata": {},
   "outputs": [
    {
     "data": {
      "text/html": [
       "<div>\n",
       "<style scoped>\n",
       "    .dataframe tbody tr th:only-of-type {\n",
       "        vertical-align: middle;\n",
       "    }\n",
       "\n",
       "    .dataframe tbody tr th {\n",
       "        vertical-align: top;\n",
       "    }\n",
       "\n",
       "    .dataframe thead th {\n",
       "        text-align: right;\n",
       "    }\n",
       "</style>\n",
       "<table border=\"1\" class=\"dataframe\">\n",
       "  <thead>\n",
       "    <tr style=\"text-align: right;\">\n",
       "      <th></th>\n",
       "      <th></th>\n",
       "      <th>open</th>\n",
       "      <th>high</th>\n",
       "      <th>low</th>\n",
       "      <th>close</th>\n",
       "      <th>volume</th>\n",
       "      <th>trade_count</th>\n",
       "      <th>vwap</th>\n",
       "    </tr>\n",
       "    <tr>\n",
       "      <th>symbol</th>\n",
       "      <th>timestamp</th>\n",
       "      <th></th>\n",
       "      <th></th>\n",
       "      <th></th>\n",
       "      <th></th>\n",
       "      <th></th>\n",
       "      <th></th>\n",
       "      <th></th>\n",
       "    </tr>\n",
       "  </thead>\n",
       "  <tbody>\n",
       "    <tr>\n",
       "      <th>MSFT</th>\n",
       "      <th>2024-11-18 16:00:00+00:00</th>\n",
       "      <td>417.58</td>\n",
       "      <td>417.795</td>\n",
       "      <td>415.68</td>\n",
       "      <td>416.0532</td>\n",
       "      <td>1055579.0</td>\n",
       "      <td>31984.0</td>\n",
       "      <td>416.737288</td>\n",
       "    </tr>\n",
       "  </tbody>\n",
       "</table>\n",
       "</div>"
      ],
      "text/plain": [
       "                                    open     high     low     close  \\\n",
       "symbol timestamp                                                      \n",
       "MSFT   2024-11-18 16:00:00+00:00  417.58  417.795  415.68  416.0532   \n",
       "\n",
       "                                     volume  trade_count        vwap  \n",
       "symbol timestamp                                                      \n",
       "MSFT   2024-11-18 16:00:00+00:00  1055579.0      31984.0  416.737288  "
      ]
     },
     "metadata": {},
     "output_type": "display_data"
    }
   ],
   "source": [
    "display(dataF)"
   ]
  },
  {
   "cell_type": "code",
   "execution_count": 2,
   "metadata": {},
   "outputs": [],
   "source": [
    "alpaca_trading = AlpacaTradingClass([api_key, secret_key], asset_class)"
   ]
  },
  {
   "cell_type": "code",
   "execution_count": null,
   "metadata": {},
   "outputs": [],
   "source": [
    "alpaca_trading.place_order(\"MSFT\", 10, \"buy\")"
   ]
  }
 ],
 "metadata": {
  "kernelspec": {
   "display_name": ".venv",
   "language": "python",
   "name": "python3"
  },
  "language_info": {
   "codemirror_mode": {
    "name": "ipython",
    "version": 3
   },
   "file_extension": ".py",
   "mimetype": "text/x-python",
   "name": "python",
   "nbconvert_exporter": "python",
   "pygments_lexer": "ipython3",
   "version": "3.10.2"
  }
 },
 "nbformat": 4,
 "nbformat_minor": 2
}
