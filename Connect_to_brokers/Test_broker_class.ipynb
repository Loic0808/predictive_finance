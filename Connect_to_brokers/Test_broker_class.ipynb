{
 "cells": [
  {
   "cell_type": "code",
   "execution_count": 2,
   "metadata": {},
   "outputs": [],
   "source": [
    "from Alpaca_class import AlpacaGetData, AlpacaTradingClass\n",
    "\n",
    "api_key = \"PKAG0XBVFXJPXPXBWPGW\"\n",
    "secret_key = \"pjp69zCQBSUziTzXEjZ9DagW04sni7Jg99QKH6TH\"\n",
    "\n",
    "asset_class = \"us_equity\"\n",
    "\n",
    "alpaca_data_loader = AlpacaGetData([api_key, secret_key], asset_class)"
   ]
  },
  {
   "cell_type": "code",
   "execution_count": 11,
   "metadata": {},
   "outputs": [],
   "source": [
    "dataF = alpaca_data_loader.get_historical_market_data([\"MSFT\"], \"minute\", \"2024-12-18 15:30:00\", \"2024-12-18 16:30:00\")"
   ]
  },
  {
   "cell_type": "code",
   "execution_count": null,
   "metadata": {},
   "outputs": [],
   "source": [
    "display(dataF)"
   ]
  },
  {
   "cell_type": "code",
   "execution_count": 5,
   "metadata": {},
   "outputs": [],
   "source": [
    "alpaca_trading = AlpacaTradingClass([api_key, secret_key], asset_class)"
   ]
  },
  {
   "cell_type": "code",
   "execution_count": null,
   "metadata": {},
   "outputs": [],
   "source": [
    "alpaca_trading.place_order(\"MSFT\", 10, \"buy\")"
   ]
  },
  {
   "cell_type": "code",
   "execution_count": null,
   "metadata": {},
   "outputs": [],
   "source": [
    "df = alpaca_data_loader.get_live_market_data(\"MSFT\", \"minute\")"
   ]
  }
 ],
 "metadata": {
  "kernelspec": {
   "display_name": ".venv",
   "language": "python",
   "name": "python3"
  },
  "language_info": {
   "codemirror_mode": {
    "name": "ipython",
    "version": 3
   },
   "file_extension": ".py",
   "mimetype": "text/x-python",
   "name": "python",
   "nbconvert_exporter": "python",
   "pygments_lexer": "ipython3",
   "version": "3.10.2"
  }
 },
 "nbformat": 4,
 "nbformat_minor": 2
}
