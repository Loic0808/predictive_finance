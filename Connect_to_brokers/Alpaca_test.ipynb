{
 "cells": [
  {
   "cell_type": "code",
   "execution_count": 1,
   "metadata": {},
   "outputs": [],
   "source": [
    "from alpaca.data import CryptoHistoricalDataClient, StockHistoricalDataClient, OptionHistoricalDataClient\n",
    "\n",
    "api_key = \"PKAG0XBVFXJPXPXBWPGW\"\n",
    "secret_key = \"pjp69zCQBSUziTzXEjZ9DagW04sni7Jg99QKH6TH\""
   ]
  },
  {
   "cell_type": "code",
   "execution_count": 2,
   "metadata": {},
   "outputs": [],
   "source": [
    "# no keys required.\n",
    "crypto_client = CryptoHistoricalDataClient()\n",
    "\n",
    "# keys required\n",
    "stock_client = StockHistoricalDataClient(api_key,  secret_key)\n",
    "option_client = OptionHistoricalDataClient(api_key,  secret_key)"
   ]
  }
 ],
 "metadata": {
  "kernelspec": {
   "display_name": ".venv",
   "language": "python",
   "name": "python3"
  },
  "language_info": {
   "codemirror_mode": {
    "name": "ipython",
    "version": 3
   },
   "file_extension": ".py",
   "mimetype": "text/x-python",
   "name": "python",
   "nbconvert_exporter": "python",
   "pygments_lexer": "ipython3",
   "version": "3.10.2"
  }
 },
 "nbformat": 4,
 "nbformat_minor": 2
}
