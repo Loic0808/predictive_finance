{
 "cells": [
  {
   "cell_type": "code",
   "execution_count": null,
   "metadata": {},
   "outputs": [],
   "source": [
    "import yfinance as yf\n",
    "import pandas as pd\n",
    "import numpy as np\n",
    "\n",
    "from itertools import product"
   ]
  },
  {
   "cell_type": "code",
   "execution_count": null,
   "metadata": {},
   "outputs": [],
   "source": [
    "ticker = \"JPM\"\n",
    "data = yf.download(tickers = ticker, start=\"2006-01-01\", end=\"2025-01-01\")"
   ]
  },
  {
   "cell_type": "code",
   "execution_count": null,
   "metadata": {},
   "outputs": [],
   "source": [
    "data"
   ]
  },
  {
   "cell_type": "code",
   "execution_count": 4,
   "metadata": {},
   "outputs": [],
   "source": [
    "data[\"Daily return\"] = data[\"Adj Close\"].pct_change() #periods=n\n",
    "data[\"State\"] = np.where(data[\"Daily return\"] >= 0, \"up\", \"down\")"
   ]
  },
  {
   "cell_type": "code",
   "execution_count": 5,
   "metadata": {},
   "outputs": [],
   "source": [
    "up_counts = len(data[data[\"State\"] == \"up\"])\n",
    "down_counts = len(data[data[\"State\"] == \"down\"])\n",
    "\n",
    "up_to_up = len(data[(data[\"State\"] == \"up\") & (data[\"State\"].shift(-1) == \"up\")])/up_counts #/len(data.query('State==\"up\"'))\n",
    "up_to_down = len(data[(data[\"State\"] == \"up\") & (data[\"State\"].shift(-1) == \"down\")])/len(data[data[\"State\"] == \"up\"])\n",
    "down_to_up = len(data[(data[\"State\"] == \"down\") & (data[\"State\"].shift(-1) == \"up\")])/len(data[data[\"State\"] == \"down\"])\n",
    "down_to_down = len(data[(data[\"State\"] == \"down\") & (data[\"State\"].shift(-1) == \"down\")])/down_counts"
   ]
  },
  {
   "cell_type": "code",
   "execution_count": 6,
   "metadata": {},
   "outputs": [],
   "source": [
    "transition_matrix = pd.DataFrame({\n",
    "    \"up\": [up_to_up, down_to_up],\n",
    "    \"down\": [up_to_down, down_to_down]\n",
    "}, index=[\"up\", \"down\"])"
   ]
  },
  {
   "cell_type": "code",
   "execution_count": null,
   "metadata": {},
   "outputs": [],
   "source": [
    "print(transition_matrix)"
   ]
  },
  {
   "cell_type": "code",
   "execution_count": 8,
   "metadata": {},
   "outputs": [],
   "source": [
    "condition1 = data[\n",
    "    (data[\"State\"] == \"up\") \n",
    "    & (data[\"State\"].shift(1) == \"down\")\n",
    "    & (data[\"State\"].shift(2) == \"down\")\n",
    "    & (data[\"State\"].shift(3) == \"down\")\n",
    "    & (data[\"State\"].shift(4) == \"down\")\n",
    "    & (data[\"State\"].shift(5) == \"down\")\n",
    "    ]\n",
    "\n",
    "condition2 = data[\n",
    "    (data[\"State\"] == \"down\")\n",
    "    & (data[\"State\"].shift(1) == \"down\")\n",
    "    & (data[\"State\"].shift(2) == \"down\")\n",
    "    & (data[\"State\"].shift(3) == \"down\")\n",
    "    & (data[\"State\"].shift(4) == \"down\")\n",
    "    ]"
   ]
  },
  {
   "cell_type": "code",
   "execution_count": null,
   "metadata": {},
   "outputs": [],
   "source": [
    "print(f\"P(up | 5 down) = {len(condition1)/ len(condition2)}\")"
   ]
  },
  {
   "cell_type": "code",
   "execution_count": null,
   "metadata": {},
   "outputs": [],
   "source": [
    "test = data\n",
    "test[\"test\"] = data[\"State\"].shift(1)\n",
    "test[\"test2\"] = data[\"State\"].shift(2)\n",
    "test"
   ]
  },
  {
   "cell_type": "code",
   "execution_count": 15,
   "metadata": {},
   "outputs": [],
   "source": [
    "sequence = [\"down\", \"down\", \"down\", \"down\", \"down\", \"up\"]\n",
    "\n",
    "# Build the condition using a loop\n",
    "condition = True\n",
    "for i, state in enumerate(sequence):\n",
    "    condition &= (data[\"State\"].shift(-i) == state)\n",
    "\n",
    "# Filter the DataFrame\n",
    "filtered_data = data[condition]"
   ]
  },
  {
   "cell_type": "code",
   "execution_count": 29,
   "metadata": {},
   "outputs": [],
   "source": [
    "states = [\"up\", \"down\"]\n",
    "transition_probabilities = {}\n",
    "\n",
    "for length in range(2, 11): \n",
    "    for state_comb in product(states, repeat=length):\n",
    "        condition1 = True\n",
    "        condition2 = True\n",
    "        for i, state in enumerate(state_comb):\n",
    "            # In our case it does not matter if we look forward (i.e. -i) or backwards (i.e. i) because in any case we iterate over all combinations.\n",
    "            condition1 &= (data[\"State\"].shift(i) == state)\n",
    "            # The first state is the one we \"predict\"\n",
    "            if i != 0:\n",
    "                condition2 &= (data[\"State\"].shift(i) == state)\n",
    "\n",
    "        transition_probabilities[state_comb] = (len(data[condition1])/len(data[condition2]), len(data[condition2]))"
   ]
  },
  {
   "cell_type": "code",
   "execution_count": null,
   "metadata": {},
   "outputs": [],
   "source": [
    "for state_comb, prob in transition_probabilities.items():\n",
    "    if prob[0] > 0.7 and prob[1] > 30:\n",
    "        print(f\"Probability of {state_comb[0]} after {state_comb[1:]} is {prob[0]}, pattern appeared {prob[1]} times\")"
   ]
  },
  {
   "cell_type": "markdown",
   "metadata": {},
   "source": [
    "Exit pattern"
   ]
  },
  {
   "cell_type": "code",
   "execution_count": null,
   "metadata": {},
   "outputs": [],
   "source": []
  }
 ],
 "metadata": {
  "kernelspec": {
   "display_name": ".venv",
   "language": "python",
   "name": "python3"
  },
  "language_info": {
   "codemirror_mode": {
    "name": "ipython",
    "version": 3
   },
   "file_extension": ".py",
   "mimetype": "text/x-python",
   "name": "python",
   "nbconvert_exporter": "python",
   "pygments_lexer": "ipython3",
   "version": "3.10.2"
  }
 },
 "nbformat": 4,
 "nbformat_minor": 2
}
