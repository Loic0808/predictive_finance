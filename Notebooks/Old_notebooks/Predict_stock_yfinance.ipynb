{
 "cells": [
  {
   "cell_type": "code",
   "execution_count": null,
   "metadata": {},
   "outputs": [],
   "source": [
    "import yfinance as yf\n",
    "import pandas as pd\n",
    "import numpy as np\n",
    "from scipy import linalg\n",
    "\n",
    "import matplotlib.pyplot as plt"
   ]
  },
  {
   "cell_type": "code",
   "execution_count": null,
   "metadata": {},
   "outputs": [],
   "source": [
    "tickers = yf.Tickers('msft aapl goog')\n",
    "\n",
    "df_msft = tickers.tickers['MSFT'].history(period=\"1d\", interval=\"1m\")[\"Close\"]\n",
    "df_aapl = tickers.tickers['AAPL'].history(period=\"1d\", interval=\"1m\")[\"Close\"]\n",
    "df_goog = tickers.tickers['GOOG'].history(period=\"1d\", interval=\"1m\")[\"Close\"]"
   ]
  },
  {
   "cell_type": "code",
   "execution_count": null,
   "metadata": {},
   "outputs": [],
   "source": [
    "df_test = tickers.tickers['MSFT'].history(period=\"1d\", interval=\"1m\")"
   ]
  },
  {
   "cell_type": "code",
   "execution_count": null,
   "metadata": {},
   "outputs": [],
   "source": [
    "print(df_test)"
   ]
  },
  {
   "cell_type": "code",
   "execution_count": null,
   "metadata": {},
   "outputs": [],
   "source": [
    "# Creating a dictionary by passing Series objects as values\n",
    "frame = {'MSFT': df_msft},\n",
    "        'GOOG': df_goog,\n",
    "        'AAPL': df_aapl}\n",
    " \n",
    "# Creating DataFrame by passing Dictionary\n",
    "df = pd.DataFrame(frame)"
   ]
  },
  {
   "cell_type": "code",
   "execution_count": null,
   "metadata": {},
   "outputs": [],
   "source": [
    "display(df)"
   ]
  },
  {
   "cell_type": "code",
   "execution_count": null,
   "metadata": {},
   "outputs": [],
   "source": [
    "lrets = np.log(df/df.shift(1)).dropna()"
   ]
  },
  {
   "cell_type": "code",
   "execution_count": null,
   "metadata": {},
   "outputs": [],
   "source": [
    "Omega = (lrets\n",
    "         .rolling(30)\n",
    "         .cov()\n",
    "         .dropna())"
   ]
  },
  {
   "cell_type": "code",
   "execution_count": null,
   "metadata": {},
   "outputs": [],
   "source": [
    "display(Omega)"
   ]
  },
  {
   "cell_type": "code",
   "execution_count": null,
   "metadata": {},
   "outputs": [],
   "source": [
    "dates = lrets.index\n",
    "dates = dates[30:]\n",
    "\n",
    "covdata = dict(zip(dates, [Omega.loc[date].values for date in dates]))"
   ]
  },
  {
   "cell_type": "code",
   "execution_count": null,
   "metadata": {},
   "outputs": [],
   "source": [
    "marketBM = dict(zip(dates, [np.matmul(np.linalg.inv(linalg.sqrtm(Omega.loc[date].values)),lrets.loc[date].values) for date in dates]))"
   ]
  },
  {
   "cell_type": "code",
   "execution_count": null,
   "metadata": {},
   "outputs": [],
   "source": [
    "plt.plot([marketBM[date][0] for date in dates])\n",
    "plt.show()\n",
    "print(np.std(np.array([marketBM[date][0] for date in dates])))\n",
    "print(np.mean(np.array([marketBM[date][0] for date in dates])))"
   ]
  },
  {
   "cell_type": "code",
   "execution_count": null,
   "metadata": {},
   "outputs": [],
   "source": [
    "K=3\n",
    "BMmarketpath = 1/250*np.ones((len(dates),K))\n",
    "mean=np.zeros(K)\n",
    "for k in range(K):\n",
    "    mean[k] = np.mean([marketBM[l][k] for l in dates])"
   ]
  },
  {
   "cell_type": "code",
   "execution_count": null,
   "metadata": {},
   "outputs": [],
   "source": [
    "for i in range(K):\n",
    "    BMmarketpath[:,i] = np.cumsum([np.sqrt(1/250)*(marketBM[date][i]-0.*mean[i])\n",
    "                                                   for date in dates])\n",
    "#BMmarketpath[:,K]= np.cumsum(BMmarketpath[:,K])\n",
    "plt.plot(BMmarketpath)\n",
    "plt.show()"
   ]
  },
  {
   "cell_type": "code",
   "execution_count": null,
   "metadata": {},
   "outputs": [],
   "source": [
    "plt.figure()\n",
    "plt.plot(df_msft)\n",
    "plt.plot(df_aapl)\n",
    "plt.plot(df_goog)\n",
    "plt.show()"
   ]
  },
  {
   "cell_type": "markdown",
   "metadata": {},
   "source": [
    "For example, the New York Stock Exchange is, as of 2020, open from 9:30 AM Eastern Time to 4:00 PM Eastern Time."
   ]
  },
  {
   "cell_type": "code",
   "execution_count": null,
   "metadata": {},
   "outputs": [],
   "source": [
    "print(df_msft.shape)"
   ]
  },
  {
   "cell_type": "code",
   "execution_count": null,
   "metadata": {},
   "outputs": [],
   "source": [
    "plt.figure()\n",
    "plt.plot(df_msft[:700])\n",
    "plt.show()"
   ]
  },
  {
   "cell_type": "code",
   "execution_count": null,
   "metadata": {},
   "outputs": [],
   "source": [
    "Kmarket = 3\n",
    "Ymarket = np.zeros((len(dates),Kmarket))\n",
    "for i in range(Kmarket):\n",
    "    Ymarket[:,i]=np.cumsum([lrets.loc[date].values[i] for date in dates])\n",
    "Ymarket = np.exp(Ymarket)"
   ]
  },
  {
   "cell_type": "code",
   "execution_count": null,
   "metadata": {},
   "outputs": [],
   "source": [
    "plt.plot(Ymarket)\n",
    "plt.show()"
   ]
  },
  {
   "cell_type": "code",
   "execution_count": null,
   "metadata": {},
   "outputs": [],
   "source": [
    "print(Ymarket.shape)"
   ]
  },
  {
   "cell_type": "code",
   "execution_count": null,
   "metadata": {},
   "outputs": [],
   "source": [
    "d=K\n",
    "M=70\n",
    "\n",
    "def nilpotent(M):\n",
    "    B = np.zeros((M,M))\n",
    "    for i in range(2,M):\n",
    "        B[i,i-1]=1.0\n",
    "    return B\n",
    "\n",
    "def canonical(i,M):\n",
    "    e = np.zeros((M,1))\n",
    "    e[i,0]=1.0\n",
    "    return e\n",
    "\n",
    "def randomAbeta(d,M):\n",
    "    A = []\n",
    "    beta = []\n",
    "    for i in range(d):\n",
    "        #B = 0.1*np.identity(M)+np.random.normal(0.0,.5,size=(M,M))\n",
    "        B = np.random.normal(0.0,0.02,size=(M,M)) # 0.1 for scen-gen, 1.5 for SABR\n",
    "        #B = np.random.permutation(B)\n",
    "        #B = np.identity(M)\n",
    "        #B = sp.linalg.sqrtm(np.matmul(B,np.transpose(B)))\n",
    "        A = A + [B]\n",
    "        beta = beta + [0.*canonical(i,M)+np.random.normal(0.0,0.03,size=(M,1))]\n",
    "    return [A,beta]\n",
    "\n",
    "Abeta = randomAbeta(d,M)\n",
    "A = Abeta[0]\n",
    "beta = Abeta[1]\n",
    "\n",
    "def sigmoid(x):\n",
    "    return np.tanh(x)\n",
    "\n",
    "def reservoirfield(state,increment):\n",
    "    value = np.zeros((M,1))\n",
    "    for i in range(d):\n",
    "        value = value + sigmoid(np.matmul(A[i],state) + beta[i])*increment[i]\n",
    "    return value"
   ]
  },
  {
   "cell_type": "code",
   "execution_count": null,
   "metadata": {},
   "outputs": [],
   "source": [
    "def vectorfield2d(state,increment):\n",
    "    return np.array([(2.0*np.sqrt(state[1]**2))**0.7+np.sin(state[1]),1.0*state[1]+np.cos(state[1])])*increment[0]+np.array([(2.0*np.sqrt(state[1]**2))**0.7,0.0*state[1]])*increment[1]\n",
    "\n",
    "class SDE:\n",
    "    def __init__(self,timehorizon,initialvalue,dimension,dimensionBM,dimensionR,vectorfield,timesteps):\n",
    "        self.timehorizon = timehorizon\n",
    "        self.initialvalue = initialvalue # np array\n",
    "        self.dimension = dimension\n",
    "        self.dimensionBM = dimensionBM\n",
    "        self.dimensionR = dimensionR\n",
    "        self.vectorfield = vectorfield\n",
    "        self.timesteps = timesteps\n",
    "\n",
    "    def path(self):\n",
    "        BMpath = [np.zeros(self.dimensionBM)] # We store it in a list to have the whole BM path\n",
    "        SDEpath = [np.array([1.0, self.initialvalue])]\n",
    "        for i in range(self.timesteps):\n",
    "            helper = np.random.normal(0,np.sqrt(self.timehorizon/self.timesteps),self.dimensionBM)\n",
    "            BMpath = BMpath + [BMpath[-1]+helper]\n",
    "            SDEpath = SDEpath + [np.exp(-1.0*self.timehorizon/self.timesteps)*(SDEpath[-1]+self.vectorfield(SDEpath[-1],helper))] # represents the path of X_t using the SDE (and hence the vf)\n",
    "        return [BMpath, SDEpath]\n",
    "\n",
    "    def anypath(self):\n",
    "        BMpath = [np.zeros(self.dimensionBM)]\n",
    "        SDEpath = [np.array([1.0, self.initialvalue])]#[np.ones((self.dimension,1))*self.initialvalue]\n",
    "\n",
    "        for i in range(self.timesteps):\n",
    "            helper = np.cos(BMpath[-1]*50)*self.timehorizon/self.timesteps#np.random.normal(0,np.sqrt(self.timehorizon/self.timesteps),self.dimensionBM)\n",
    "            BMpath = BMpath + [BMpath[-1]+helper]\n",
    "            SDEpath = SDEpath + [np.exp(-0.0*self.timehorizon/self.timesteps)*(SDEpath[-1]+self.vectorfield(SDEpath[-1],helper))]\n",
    "\n",
    "        return [BMpath, SDEpath]\n",
    "\n",
    "    def reservoir(self,BMpath,scaling,k):\n",
    "        reservoirpath = [canonical(k,self.dimensionR)*self.initialvalue] # e_k*X_0\n",
    "        for i in range(self.timesteps):\n",
    "            increment = scaling*(BMpath[i+1]-BMpath[i])\n",
    "            reservoirpath = reservoirpath + [np.exp(-1.0*self.timehorizon/self.timesteps)*(reservoirpath[-1]+reservoirfield(reservoirpath[-1],increment))]\n",
    "        return reservoirpath"
   ]
  },
  {
   "cell_type": "code",
   "execution_count": null,
   "metadata": {},
   "outputs": [],
   "source": [
    "#Ymarketdiff = np.diff(Ymarket,axis=0)\n",
    "#Ymarkettrain = np.concatenate((Ymarket[:200],Ymarketdiff[:200:1]),axis=0)\n",
    "Ymarkettrain = Ymarket[:300]\n",
    "np.shape(Ymarkettrain)"
   ]
  },
  {
   "cell_type": "code",
   "execution_count": null,
   "metadata": {},
   "outputs": [],
   "source": [
    "BMmarketpathlist = [BMmarketpath[i,:] for i in range(len(dates))]\n",
    "#BMmarketpathlist = [Ymarket[i,:K] for i in range(len(dates))]\n",
    "Reservoir = SDE(1,1.5,2,K,M,vectorfield2d,len(dates)-1)\n",
    "X=Reservoir.reservoir(BMmarketpathlist,0.5,0)\n",
    "np.shape(X)\n",
    "Xdata = np.squeeze(X)\n",
    "Reservoir1 = SDE(1,0.0,2,K,M,vectorfield2d,len(dates)-1)\n",
    "X1=Reservoir1.reservoir(BMmarketpathlist,0.4,0)\n",
    "np.shape(X1)\n",
    "Xdata1=np.squeeze(X1)\n",
    "Reservoir2 = SDE(1,-1.5,2,K,M,vectorfield2d,len(dates)-1)\n",
    "X2=Reservoir2.reservoir(BMmarketpathlist,0.3,0)\n",
    "np.shape(X2)\n",
    "Xdata2 = np.squeeze(X2)\n",
    "Xdata = np.concatenate((Xdata,Xdata1,Xdata2),axis=1)\n",
    "#Xdatadiff = np.diff(Xdata,axis=0)\n",
    "#Xtrain=np.concatenate((Xdata[:200],Xdatadiff[:200:1]),axis=0)\n",
    "Xtrain = Xdata[:300]\n",
    "np.shape(Xtrain)"
   ]
  },
  {
   "cell_type": "code",
   "execution_count": null,
   "metadata": {},
   "outputs": [],
   "source": [
    "from sklearn import linear_model\n",
    "lm = linear_model.Ridge(alpha=0.05)#LinearRegression()\n",
    "model = lm.fit(Xtrain,Ymarkettrain)\n",
    "plt.plot(model.predict(Xtrain),'r')\n",
    "plt.plot(Ymarkettrain,'b')\n",
    "plt.show()\n",
    "model.score(Xtrain,Ymarkettrain)\n",
    "model.coef_"
   ]
  },
  {
   "cell_type": "code",
   "execution_count": null,
   "metadata": {},
   "outputs": [],
   "source": [
    "f,p=plt.subplots(Kmarket,1,figsize=(6,6),sharey=False)\n",
    "\n",
    "for i in range(Kmarket):\n",
    "    p[i].plot(model.predict(Xdata[301:])[:,i],'b')\n",
    "    p[i].plot(Ymarket[301:][:,i],'g')\n",
    "plt.show()"
   ]
  },
  {
   "cell_type": "markdown",
   "metadata": {},
   "source": [
    "Refine these inputs to have more data"
   ]
  }
 ],
 "metadata": {
  "kernelspec": {
   "display_name": "Python 3",
   "language": "python",
   "name": "python3"
  },
  "language_info": {
   "codemirror_mode": {
    "name": "ipython",
    "version": 3
   },
   "file_extension": ".py",
   "mimetype": "text/x-python",
   "name": "python",
   "nbconvert_exporter": "python",
   "pygments_lexer": "ipython3",
   "version": "3.10.2"
  }
 },
 "nbformat": 4,
 "nbformat_minor": 2
}
