{
 "cells": [
  {
   "cell_type": "code",
   "execution_count": null,
   "metadata": {},
   "outputs": [],
   "source": [
    "import time\n",
    "import threading\n",
    "\n",
    "import numpy as np\n",
    "import scipy as sp\n",
    "from matplotlib import pyplot as plt\n",
    "from scipy import linalg\n",
    "\n",
    "import pandas as pd\n",
    "import pandas_datareader.data as web"
   ]
  },
  {
   "cell_type": "code",
   "execution_count": null,
   "metadata": {},
   "outputs": [],
   "source": [
    "from sklearn import linear_model\n",
    "import pandas as pd"
   ]
  },
  {
   "cell_type": "code",
   "execution_count": null,
   "metadata": {},
   "outputs": [],
   "source": [
    "d=2\n",
    "M=150\n",
    "\n",
    "def nilpotent(M):\n",
    "    B = np.zeros((M,M))\n",
    "    for i in range(2,M):\n",
    "        B[i,i-1]=1.0\n",
    "    return B\n",
    "\n",
    "def canonical(i,M):\n",
    "    e = np.zeros((M,1))\n",
    "    e[i,0]=1.0\n",
    "    return e\n",
    "\n",
    "def vectorfieldSABR(state,increment):\n",
    "    return np.array([(np.sqrt(state[0]**2))**0.7*np.exp(-0.5*state[1]),0.1])*increment[0]+np.array([0,0.25*(state[0]+state[1])])*increment[1]\n",
    "\n",
    "def vectorfield2d(state,increment):\n",
    "    return np.array([(2.0*np.sqrt(state[1]**2))**0.7+np.sin(state[1]),1.0*state[1]+np.cos(state[1])])*increment[0]+np.array([(2.0*np.sqrt(state[1]**2))**0.7,0.0*state[1]])*increment[1]\n",
    "\n",
    "def randomAbeta(d,M):\n",
    "    A = []\n",
    "    beta = []\n",
    "    for i in range(d):\n",
    "        B = 0.0*nilpotent(M) + np.random.normal(0.0,0.03,size=(M,M))\n",
    "        B = np.random.permutation(B)\n",
    "        A = A + [B]\n",
    "        beta = beta + [0.0*canonical(i,M)+np.random.normal(0.0,0.03,size=(M,1))]\n",
    "    return [A,beta]"
   ]
  },
  {
   "cell_type": "code",
   "execution_count": null,
   "metadata": {},
   "outputs": [],
   "source": [
    "Abeta = randomAbeta(d,M)\n",
    "A = Abeta[0]\n",
    "beta = Abeta[1]\n",
    "\n",
    "def sigmoid(x):\n",
    "    return np.tanh(x)\n",
    "\n",
    "def reservoirfield(state,increment):\n",
    "    value = np.zeros((M,1))\n",
    "    for i in range(d):\n",
    "        value = value + sigmoid(np.matmul(A[i],state) + beta[i])*increment[i]\n",
    "    return value"
   ]
  },
  {
   "cell_type": "code",
   "execution_count": null,
   "metadata": {},
   "outputs": [],
   "source": [
    "class SDE:\n",
    "    def __init__(self,timehorizon,initialvalue,dimension,dimensionBM,dimensionR,vectorfield,timesteps):\n",
    "        self.timehorizon = timehorizon\n",
    "        self.initialvalue = initialvalue # np array\n",
    "        self.dimension = dimension\n",
    "        self.dimensionBM = dimensionBM\n",
    "        self.dimensionR = dimensionR\n",
    "        self.vectorfield = vectorfield\n",
    "        self.timesteps = timesteps\n",
    "\n",
    "    def path(self):\n",
    "        BMpath = [np.zeros(self.dimensionBM)]\n",
    "        SDEpath = [np.array([1.0, self.initialvalue])]\n",
    "        for i in range(self.timesteps):\n",
    "            helper = np.random.normal(0,np.sqrt(self.timehorizon/self.timesteps),self.dimensionBM)\n",
    "            BMpath = BMpath + [BMpath[-1]+helper]\n",
    "            SDEpath = SDEpath + [np.exp(-1.0*self.timehorizon/self.timesteps)*(SDEpath[-1]+self.vectorfield(SDEpath[-1],helper))]\n",
    "\n",
    "        return [BMpath, SDEpath]\n",
    "\n",
    "    def anypath(self):\n",
    "        BMpath = [np.zeros(self.dimensionBM)]\n",
    "        SDEpath = [np.array([1.0, self.initialvalue])]#[np.ones((self.dimension,1))*self.initialvalue]\n",
    "\n",
    "        for i in range(self.timesteps):\n",
    "            helper = np.cos(BMpath[-1]*50)*self.timehorizon/self.timesteps#np.random.normal(0,np.sqrt(self.timehorizon/self.timesteps),self.dimensionBM)\n",
    "            BMpath = BMpath + [BMpath[-1]+helper]\n",
    "            SDEpath = SDEpath + [np.exp(-0.0*self.timehorizon/self.timesteps)*(SDEpath[-1]+self.vectorfield(SDEpath[-1],helper))]\n",
    "\n",
    "        return [BMpath, SDEpath]\n",
    "\n",
    "    def reservoir(self,BMpath,scaling,k,moving_time):\n",
    "        reservoirpath = [canonical(k,self.dimensionR)*self.initialvalue]\n",
    "        for i in range(moving_time-1):\n",
    "            increment = scaling*(BMpath[i+1]-BMpath[i])\n",
    "            reservoirpath = reservoirpath + [np.exp(-1.0*self.timehorizon/self.timesteps)*(reservoirpath[-1]+reservoirfield(reservoirpath[-1],increment))]\n",
    "        return reservoirpath"
   ]
  },
  {
   "cell_type": "code",
   "execution_count": null,
   "metadata": {},
   "outputs": [],
   "source": [
    "Abeta = randomAbeta(d,M)\n",
    "A = Abeta[0]\n",
    "beta = Abeta[1]"
   ]
  },
  {
   "cell_type": "markdown",
   "metadata": {},
   "source": [
    "#### Generate stock prices"
   ]
  },
  {
   "cell_type": "code",
   "execution_count": null,
   "metadata": {},
   "outputs": [],
   "source": [
    "# Number of seconds/hours in one trading day: 9.30-16.30\n",
    "sec = 150 #25200\n",
    "min = 420"
   ]
  },
  {
   "cell_type": "code",
   "execution_count": null,
   "metadata": {},
   "outputs": [],
   "source": [
    "SDE_of_interest = SDE(7,1.0,2,d,M,vectorfield2d,sec)\n",
    "#SDE_of_interest = SDE(7,1.0,2,d,M,vectorfieldSABR,10000)\n",
    "training = SDE_of_interest.path()"
   ]
  },
  {
   "cell_type": "code",
   "execution_count": null,
   "metadata": {},
   "outputs": [],
   "source": [
    "f1,p1=plt.subplots(2,1,figsize=(6,6),sharey=True)\n",
    "p1[0].plot(training[0],'r')\n",
    "p1[1].plot(training[1],'g')\n",
    "#plt.savefig('trainingpath.pdf')\n",
    "plt.show()"
   ]
  },
  {
   "cell_type": "code",
   "execution_count": null,
   "metadata": {},
   "outputs": [],
   "source": [
    "available_SDE_data_list = []\n",
    "available_BM_data_list = []\n",
    "\n",
    "available_BM_data = training[0][0]\n",
    "available_SDE_data = training[1][0]"
   ]
  },
  {
   "cell_type": "code",
   "execution_count": null,
   "metadata": {},
   "outputs": [],
   "source": [
    "print(type(training[0][0]))"
   ]
  },
  {
   "cell_type": "code",
   "execution_count": null,
   "metadata": {},
   "outputs": [],
   "source": [
    "print(len(training[0]))"
   ]
  },
  {
   "cell_type": "code",
   "execution_count": null,
   "metadata": {},
   "outputs": [],
   "source": [
    "train = False"
   ]
  },
  {
   "cell_type": "code",
   "execution_count": null,
   "metadata": {},
   "outputs": [],
   "source": [
    "def read_data_line_by_line(data_SDE, data_BM):\n",
    "    global available_BM_data\n",
    "    global available_SDE_data\n",
    "    global train\n",
    "    \n",
    "    for i in range(1, len(training[0])): # len of list\n",
    "        print(np.shape(available_BM_data))\n",
    "        print(np.shape(available_SDE_data))\n",
    "\n",
    "        available_BM_data_list.append(data_BM[i])\n",
    "        available_SDE_data_list.append(data_SDE[i])\n",
    "\n",
    "        available_BM_data = np.array(available_BM_data_list)\n",
    "        available_SDE_data = np.array(available_SDE_data_list)\n",
    "\n",
    "        if i % 10 == 0:\n",
    "            train = True\n",
    "        else: \n",
    "            train = False\n",
    "\n",
    "        time.sleep(1) \n",
    "\n",
    "\n",
    "def train_model():\n",
    "    global available_BM_data\n",
    "    global available_SDE_data\n",
    "    global train\n",
    "\n",
    "    while train:\n",
    "        if (len(available_SDE_data) % 10) == 0: \n",
    "\n",
    "            X = SDE_of_interest.reservoir(available_BM_data,1,0, len(available_SDE_data)) \n",
    "            Xtrain = np.squeeze(X) \n",
    "\n",
    "            Ytrain = np.squeeze(available_SDE_data) \n",
    "\n",
    "            lm = linear_model.Ridge(alpha=0.05)\n",
    "            model = lm.fit(Xtrain, Ytrain)\n",
    "            plt.plot(model.predict(Xtrain),'r')\n",
    "            plt.plot(Ytrain,'b')\n",
    "            plt.show()\n",
    "            model.score(Xtrain,Ytrain)\n",
    "            model.coef_\n",
    "\n",
    "            print(\"Model trained successfully\")"
   ]
  },
  {
   "cell_type": "code",
   "execution_count": null,
   "metadata": {},
   "outputs": [],
   "source": [
    "# Start the data reading thread\n",
    "data_thread = threading.Thread(target=read_data_line_by_line, args=(training[1], training[0]))\n",
    "data_thread.start()\n",
    "\n",
    "# Start the model training thread\n",
    "train_thread = threading.Thread(target=train_model)\n",
    "train_thread.start()\n",
    "\n",
    "# Join threads to ensure they complete (in a real scenario, you may not need to join if you want continuous execution)\n",
    "data_thread.join()\n",
    "train_thread.join()\n"
   ]
  },
  {
   "cell_type": "code",
   "execution_count": null,
   "metadata": {},
   "outputs": [],
   "source": [
    "train_lock = threading.Lock()\n",
    "\n",
    "def read_data(data_BM, data_SDE):\n",
    "    global available_BM_data\n",
    "    global available_SDE_data\n",
    "\n",
    "    for i in range(1, len(data_BM)):\n",
    "\n",
    "        available_BM_data_list.append(data_BM[i])\n",
    "        available_SDE_data_list.append(data_SDE[i])\n",
    "\n",
    "        available_BM_data = np.array(available_BM_data_list)\n",
    "        available_SDE_data = np.array(available_SDE_data_list)\n",
    "        time.sleep(1)  # Simulating the 1-second interval\n",
    "        \n",
    "        # Check if we need to train/retrain the model\n",
    "        if len(available_SDE_data_list) % 20 == 0:\n",
    "            threading.Thread(target=train_model).start()\n",
    "\n",
    "def train_model():\n",
    "    global model\n",
    "    with train_lock:\n",
    "        # Wait until there are at least 20 elements\n",
    "        #while len(available_elements) < 20:\n",
    "        #    time.sleep(0.1)\n",
    "        \n",
    "        # Train the model with the available data\n",
    "        X = SDE_of_interest.reservoir(available_BM_data,1,0, len(available_SDE_data)) \n",
    "        Xtrain = np.squeeze(X) \n",
    "\n",
    "        Ytrain = np.squeeze(available_SDE_data) \n",
    "\n",
    "        lm = linear_model.Ridge(alpha=0.05)\n",
    "        model = lm.fit(Xtrain, Ytrain)\n",
    "        \n",
    "        len_predict = len(available_BM_data) + 20 # predict 20 timesteps into the future\n",
    "        X_pred = training[0][:len_predict]\n",
    "        X_pred = np.squeeze(X_pred)\n",
    "        plt.plot(model.predict(X_pred),'r')\n",
    "        plt.plot(Ytrain,'b')\n",
    "        plt.show()\n",
    "        #model.score(Xtrain,Ytrain)\n",
    "        #model.coef_"
   ]
  },
  {
   "cell_type": "code",
   "execution_count": null,
   "metadata": {},
   "outputs": [],
   "source": [
    "# Start the data reading thread\n",
    "data_thread = threading.Thread(target=read_data, args=(training[0], training[1]))\n",
    "data_thread.start()\n",
    "data_thread.join()\n",
    "\n",
    "print(\"All data read. Final available elements:\")\n",
    "print(available_SDE_data)"
   ]
  },
  {
   "cell_type": "markdown",
   "metadata": {},
   "source": [
    "I have the following problem. For the moment I have a brownian motion on a fixed time interval [a, b]. The I train my model on some interval [a, c] with c < a. After this I can predict the stock price on [c, b] but for this I need the brownian motion (and then the reservoir) on [c, b] first. But this I don't have in real time analysis, since I can only calculate the underlying brownian motion once I have the SDE path. Solutions:\\\n",
    "\\\n",
    "1) I can use a random brownian motion and then see how my model learns. This does not work very well...\\\n",
    "\\\n",
    "2) Using the same method, I could learn the relation f(SDE[:t]) -> SDE[t:t+alpha]\\\n",
    "\\\n",
    "3) Or starting with an uncomplete (exponential) brownian motion can I predict it in the future? If yes can I learn this relation"
   ]
  }
 ],
 "metadata": {
  "kernelspec": {
   "display_name": ".venv",
   "language": "python",
   "name": "python3"
  },
  "language_info": {
   "codemirror_mode": {
    "name": "ipython",
    "version": 3
   },
   "file_extension": ".py",
   "mimetype": "text/x-python",
   "name": "python",
   "nbconvert_exporter": "python",
   "pygments_lexer": "ipython3",
   "version": "3.10.2"
  }
 },
 "nbformat": 4,
 "nbformat_minor": 2
}
