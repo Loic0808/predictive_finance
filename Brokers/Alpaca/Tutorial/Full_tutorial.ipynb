{
 "cells": [
  {
   "cell_type": "code",
   "execution_count": null,
   "metadata": {},
   "outputs": [],
   "source": [
    "from Alpaca_keyes import API_KEY, SECRET_KEY"
   ]
  },
  {
   "cell_type": "code",
   "execution_count": 2,
   "metadata": {},
   "outputs": [],
   "source": [
    "api_key = API_KEY\n",
    "secret_key = SECRET_KEY\n",
    "\n",
    "#### We use paper environment for this example ####\n",
    "paper = True # Please do not modify this. This example is for paper trading only.\n",
    "####\n",
    "\n",
    "# Below are the variables for development this documents\n",
    "# Please do not change these variables\n",
    "trade_api_url = None\n",
    "trade_api_wss = None\n",
    "data_api_url = None\n",
    "stream_data_wss = None"
   ]
  },
  {
   "cell_type": "code",
   "execution_count": 3,
   "metadata": {},
   "outputs": [],
   "source": [
    "from datetime import datetime, timedelta\n",
    "from zoneinfo import ZoneInfo\n",
    "\n",
    "import alpaca\n",
    "from alpaca.trading.client import TradingClient\n",
    "from alpaca.data.timeframe import TimeFrame, TimeFrameUnit\n",
    "from alpaca.data.historical.corporate_actions import CorporateActionsClient\n",
    "from alpaca.data.historical.stock import StockHistoricalDataClient\n",
    "from alpaca.trading.stream import TradingStream\n",
    "from alpaca.data.live.stock import StockDataStream\n",
    "\n",
    "from alpaca.data.requests import (\n",
    "    CorporateActionsRequest,\n",
    "    StockBarsRequest,\n",
    "    StockQuotesRequest,\n",
    "    StockTradesRequest,\n",
    ")\n",
    "from alpaca.trading.requests import (\n",
    "    ClosePositionRequest,\n",
    "    GetAssetsRequest,\n",
    "    GetOrdersRequest,\n",
    "    LimitOrderRequest,\n",
    "    MarketOrderRequest,\n",
    "    StopLimitOrderRequest,\n",
    "    StopLossRequest,\n",
    "    StopOrderRequest,\n",
    "    TakeProfitRequest,\n",
    "    TrailingStopOrderRequest,\n",
    ")\n",
    "from alpaca.trading.enums import (\n",
    "    AssetExchange,\n",
    "    AssetStatus,\n",
    "    OrderClass,\n",
    "    OrderSide,\n",
    "    OrderType,\n",
    "    QueryOrderStatus,\n",
    "    TimeInForce,\n",
    ")"
   ]
  },
  {
   "cell_type": "code",
   "execution_count": 4,
   "metadata": {},
   "outputs": [],
   "source": [
    "import nest_asyncio\n",
    "nest_asyncio.apply()"
   ]
  },
  {
   "cell_type": "markdown",
   "metadata": {},
   "source": [
    "### Trading client"
   ]
  },
  {
   "cell_type": "code",
   "execution_count": 6,
   "metadata": {},
   "outputs": [],
   "source": [
    "trade_client = TradingClient(api_key=api_key, secret_key=secret_key, paper=paper, url_override=trade_api_url)"
   ]
  },
  {
   "cell_type": "code",
   "execution_count": null,
   "metadata": {},
   "outputs": [],
   "source": [
    "# check trading account\n",
    "# You can check definition of each field in the following documents\n",
    "# ref. https://docs.alpaca.markets/docs/account-plans\n",
    "# ref. https://docs.alpaca.markets/reference/getaccount-1\n",
    "acct = trade_client.get_account()\n",
    "acct"
   ]
  },
  {
   "cell_type": "code",
   "execution_count": null,
   "metadata": {},
   "outputs": [],
   "source": [
    "# check account configuration\n",
    "# ref. https://docs.alpaca.markets/reference/getaccountconfig-1\n",
    "acct_config = trade_client.get_account_configurations()\n",
    "acct_config"
   ]
  },
  {
   "cell_type": "code",
   "execution_count": null,
   "metadata": {},
   "outputs": [],
   "source": [
    "\"\"\"\n",
    "# set account configuration\n",
    "# ref. https://docs.alpaca.markets/reference/patchaccountconfig-1\n",
    "req = acct_config\n",
    "req.fractional_trading = not req.fractional_trading # toggle fractional trading\n",
    "acct_config_new = trade_client.set_account_configurations(req)\n",
    "display(acct_config_new)\n",
    "\n",
    "# revert changes\n",
    "req = acct_config_new\n",
    "req.fractional_trading = not req.fractional_trading # toggle fractional trading\n",
    "acct_config_reverted = trade_client.set_account_configurations(req)\n",
    "display(acct_config_reverted)\n",
    "\"\"\""
   ]
  },
  {
   "cell_type": "code",
   "execution_count": 9,
   "metadata": {},
   "outputs": [],
   "source": [
    "# get list of assets which are us_equity (default), active, and in NASDAQ\n",
    "# ref. https://docs.alpaca.markets/reference/get-v2-assets-1\n",
    "req = GetAssetsRequest(\n",
    "  # asset_class=AssetClass.US_EQUITY,  # default asset_class is us_equity\n",
    "  status=AssetStatus.ACTIVE,\n",
    "  exchange=AssetExchange.NASDAQ,\n",
    ")\n",
    "assets = trade_client.get_all_assets(req)"
   ]
  },
  {
   "cell_type": "code",
   "execution_count": null,
   "metadata": {},
   "outputs": [],
   "source": [
    "print(assets[3:6])"
   ]
  },
  {
   "cell_type": "markdown",
   "metadata": {},
   "source": [
    "#### Orders"
   ]
  },
  {
   "cell_type": "code",
   "execution_count": 13,
   "metadata": {},
   "outputs": [],
   "source": [
    "# we will place orders which Alapca trading platform supports\n",
    "# - order classes: simple, bracket, oco, oto\n",
    "# - order types: market, limit, stop, stop_limit, trailing_stop\n",
    "#\n",
    "# please refer to the following documents for more details\n",
    "# ref. https://docs.alpaca.markets/docs/orders-at-alpaca\n",
    "# ref. https://docs.alpaca.markets/reference/postorder\n",
    "#\n",
    "# we will also use fractional trading capability of Alpaca trading platform in this example\n",
    "# ref. https://docs.alpaca.markets/docs/fractional-trading\n",
    "\n",
    "# we will place orders for symbol: SPY in this example\n",
    "symbol = \"SPY\""
   ]
  },
  {
   "cell_type": "code",
   "execution_count": null,
   "metadata": {},
   "outputs": [],
   "source": [
    "# simple, market order, fractional qty\n",
    "# Alpaca trading platform support fractional trading by default\n",
    "# you can specify:\n",
    "# fractional qty (e.g. 0.01 qty) in the order request (which is shown in this example)\n",
    "# or notional value (e.g. 100 USD) (which is in the next example)\n",
    "#\n",
    "# If you have an error of `qty must be integer`,\n",
    "# please try to `Reset Account` of your paper account via the Alpaca Trading API dashboard\n",
    "req = MarketOrderRequest(\n",
    "    symbol = symbol,\n",
    "    qty = 5.5,\n",
    "    side = OrderSide.BUY,\n",
    "    type = OrderType.MARKET,\n",
    "    time_in_force = TimeInForce.DAY,\n",
    ")\n",
    "res = trade_client.submit_order(req)\n",
    "res"
   ]
  },
  {
   "cell_type": "code",
   "execution_count": null,
   "metadata": {},
   "outputs": [],
   "source": [
    "# simple, market order, notional\n",
    "# Alpaca trading platform support fractional trading by default\n",
    "# you can specify:\n",
    "# fractional qty (e.g. 0.01 qty) in the order request (which is in the example above)\n",
    "# or notional value (e.g. 100 USD) (which is in this example)\n",
    "req = MarketOrderRequest(\n",
    "    symbol = symbol,\n",
    "    notional = 1.11,  # notional is specified in USD, here we specify $1.11\n",
    "    side = OrderSide.BUY,\n",
    "    type = OrderType.MARKET,\n",
    "    time_in_force = TimeInForce.DAY,\n",
    ")\n",
    "res = trade_client.submit_order(req)\n",
    "res"
   ]
  },
  {
   "cell_type": "code",
   "execution_count": null,
   "metadata": {},
   "outputs": [],
   "source": [
    "# simple, limit order, fractional qty\n",
    "req = LimitOrderRequest(\n",
    "    symbol = symbol,\n",
    "    qty = 0.01,\n",
    "    limit_price = 550.25,\n",
    "    side = OrderSide.BUY,\n",
    "    type = OrderType.LIMIT,\n",
    "    time_in_force = TimeInForce.DAY,\n",
    ")\n",
    "res = trade_client.submit_order(req)\n",
    "res"
   ]
  },
  {
   "cell_type": "code",
   "execution_count": null,
   "metadata": {},
   "outputs": [],
   "source": [
    "# stop order\n",
    "req = StopOrderRequest(\n",
    "                    symbol = symbol,\n",
    "                    qty = 1,\n",
    "                    side = OrderSide.BUY,\n",
    "                    time_in_force = TimeInForce.GTC,\n",
    "                    stop_price = 600\n",
    "                    )\n",
    "\n",
    "res = trade_client.submit_order(req)\n",
    "res"
   ]
  },
  {
   "cell_type": "code",
   "execution_count": null,
   "metadata": {},
   "outputs": [],
   "source": [
    "# stop limit order\n",
    "req = StopLimitOrderRequest(\n",
    "                    symbol = symbol,\n",
    "                    qty = 1,\n",
    "                    side = OrderSide.BUY,\n",
    "                    time_in_force = TimeInForce.GTC,\n",
    "                    limit_price = 550,\n",
    "                    stop_price = 600\n",
    "                    )\n",
    "\n",
    "res = trade_client.submit_order(req)\n",
    "res"
   ]
  },
  {
   "cell_type": "code",
   "execution_count": null,
   "metadata": {},
   "outputs": [],
   "source": [
    "# bracket order with both stop loss and take profit\n",
    "req = MarketOrderRequest(\n",
    "                    symbol = symbol,\n",
    "                    qty = 5,\n",
    "                    side = OrderSide.BUY,\n",
    "                    time_in_force = TimeInForce.DAY,\n",
    "                    order_class = OrderClass.BRACKET,\n",
    "                    take_profit = TakeProfitRequest(limit_price=600),\n",
    "                    stop_loss = StopLossRequest(stop_price=300)\n",
    ")\n",
    "res = trade_client.submit_order(req)\n",
    "res"
   ]
  },
  {
   "cell_type": "code",
   "execution_count": null,
   "metadata": {},
   "outputs": [],
   "source": [
    "# oto order with stop loss\n",
    "req = LimitOrderRequest(\n",
    "                    symbol = symbol,\n",
    "                    qty = 1,\n",
    "                    limit_price = 500,\n",
    "                    side = OrderSide.BUY,\n",
    "                    time_in_force = TimeInForce.DAY,\n",
    "                    Class = OrderClass.OTO,\n",
    "                    stop_loss = StopLossRequest(stop_price = 300)\n",
    "                    )\n",
    "\n",
    "res = trade_client.submit_order(req)\n",
    "res"
   ]
  },
  {
   "cell_type": "code",
   "execution_count": null,
   "metadata": {},
   "outputs": [],
   "source": [
    "# oco limit order\n",
    "req = LimitOrderRequest(\n",
    "                    symbol = symbol,\n",
    "                    qty = 1,\n",
    "                    limit_price = 500,\n",
    "                    side = OrderSide.BUY,\n",
    "                    time_in_force = TimeInForce.DAY,\n",
    "                    Class = OrderClass.OCO\n",
    "                    )\n",
    "\n",
    "res = trade_client.submit_order(req)\n",
    "res"
   ]
  },
  {
   "cell_type": "code",
   "execution_count": null,
   "metadata": {},
   "outputs": [],
   "source": [
    "# trailing stop order\n",
    "req = TrailingStopOrderRequest(\n",
    "                    symbol = symbol,\n",
    "                    qty = 1,\n",
    "                    side = OrderSide.BUY,\n",
    "                    time_in_force = TimeInForce.GTC,\n",
    "                    trail_percent = 0.20 # you can also use trail_price instead of trail_percent\n",
    "                    )\n",
    "\n",
    "res = trade_client.submit_order(req)\n",
    "res"
   ]
  },
  {
   "cell_type": "code",
   "execution_count": null,
   "metadata": {},
   "outputs": [],
   "source": [
    "# get a list of orders including closed (e.g. filled) orders by specifying symbol\n",
    "req = GetOrdersRequest(\n",
    "    status = QueryOrderStatus.ALL,\n",
    "    symbols = [symbol]\n",
    ")\n",
    "orders = trade_client.get_orders(req)"
   ]
  },
  {
   "cell_type": "code",
   "execution_count": null,
   "metadata": {},
   "outputs": [],
   "source": [
    "for order in orders:\n",
    "    print(order.type, order.submitted_at)"
   ]
  },
  {
   "cell_type": "code",
   "execution_count": 31,
   "metadata": {},
   "outputs": [],
   "source": [
    "# see all open orders\n",
    "req = GetOrdersRequest(\n",
    "    status = QueryOrderStatus.OPEN,\n",
    "    symbols = [symbol]\n",
    ")\n",
    "open_orders = trade_client.get_orders(req)"
   ]
  },
  {
   "cell_type": "code",
   "execution_count": null,
   "metadata": {},
   "outputs": [],
   "source": [
    "for order in open_orders:\n",
    "    print(order.type, order.submitted_at)"
   ]
  },
  {
   "cell_type": "code",
   "execution_count": null,
   "metadata": {},
   "outputs": [],
   "source": [
    "# cancel all open orders\n",
    "trade_client.cancel_orders()"
   ]
  },
  {
   "cell_type": "markdown",
   "metadata": {},
   "source": [
    "### Access historical data"
   ]
  },
  {
   "cell_type": "code",
   "execution_count": null,
   "metadata": {},
   "outputs": [],
   "source": [
    "\"\"\"\n",
    "The timeframe we enter in \n",
    "request_params = CryptoBarsRequest(\n",
    "                        symbol_or_symbols=[\"BTC/USD\", \"ETH/USD\"],\n",
    "                        timeframe=TimeFrame.Day,\n",
    "                        start=\"2022-07-01\"\n",
    "                 )\n",
    "is the period over which the bars should be aggregated. (i.e. 5 Min bars, 1 Day bars). They are od the following form\n",
    "\n",
    "TYPE:\n",
    "TimeFrame\n",
    "A time interval specified in multiples of defined units (minute, day, etc)\n",
    "\n",
    "amount_value\n",
    "The number of multiples of the TimeFrameUnit interval\n",
    "\n",
    "TYPE:\n",
    "int\n",
    "\n",
    "unit_value\n",
    "The base unit of time interval that is used to measure the TimeFrame\n",
    "\"\"\""
   ]
  },
  {
   "cell_type": "code",
   "execution_count": null,
   "metadata": {},
   "outputs": [],
   "source": [
    "# get all open positions\n",
    "# ref. https://docs.alpaca.markets/reference/getallopenpositions-1\n",
    "positions = trade_client.get_all_positions()\n",
    "positions"
   ]
  },
  {
   "cell_type": "code",
   "execution_count": null,
   "metadata": {},
   "outputs": [],
   "source": [
    "# get positions by symbol\n",
    "# ref. https://docs.alpaca.markets/reference/getopenposition-1\n",
    "position = trade_client.get_open_position(symbol_or_asset_id=symbol)\n",
    "position"
   ]
  },
  {
   "cell_type": "code",
   "execution_count": null,
   "metadata": {},
   "outputs": [],
   "source": [
    "# get positions by asset_id\n",
    "trade_client.get_open_position(symbol_or_asset_id=position.asset_id)"
   ]
  },
  {
   "cell_type": "code",
   "execution_count": null,
   "metadata": {},
   "outputs": [],
   "source": [
    "# close the position with specifying qty\n",
    "# ref. https://docs.alpaca.markets/reference/deleteopenposition-1\n",
    "trade_client.close_position(\n",
    "    symbol_or_asset_id = symbol,\n",
    "    close_options = ClosePositionRequest(\n",
    "        qty = \"0.01\",\n",
    "    )\n",
    ")"
   ]
  },
  {
   "cell_type": "markdown",
   "metadata": {},
   "source": [
    "#### Trade update stream"
   ]
  },
  {
   "cell_type": "code",
   "execution_count": null,
   "metadata": {},
   "outputs": [],
   "source": [
    "# subscribe trade updates\n",
    "trade_stream_client = TradingStream(api_key, secret_key, paper=paper, url_override = trade_api_wss)\n",
    "\n",
    "async def trade_updates_handler(data):\n",
    "    print(data)\n",
    "\n",
    "trade_stream_client.subscribe_trade_updates(trade_updates_handler)\n",
    "trade_stream_client.run()"
   ]
  },
  {
   "cell_type": "markdown",
   "metadata": {},
   "source": [
    "### Market data (Historical)"
   ]
  },
  {
   "cell_type": "code",
   "execution_count": 37,
   "metadata": {},
   "outputs": [],
   "source": [
    "# setup stock historical data client\n",
    "stock_historical_data_client = StockHistoricalDataClient(api_key, secret_key, url_override = data_api_url)"
   ]
  },
  {
   "cell_type": "code",
   "execution_count": 40,
   "metadata": {},
   "outputs": [],
   "source": [
    "now = datetime.now(ZoneInfo(\"America/New_York\"))"
   ]
  },
  {
   "cell_type": "code",
   "execution_count": 43,
   "metadata": {},
   "outputs": [],
   "source": [
    "# get historical bars by symbol\n",
    "# ref. https://docs.alpaca.markets/reference/stockbars-1\n",
    "req = StockBarsRequest(\n",
    "    symbol_or_symbols = [symbol],\n",
    "    timeframe=TimeFrame(amount = 1, unit = TimeFrameUnit.Hour), # specify timeframe\n",
    "    start = now - timedelta(days = 5),                          # specify start datetime, default=the beginning of the current day.\n",
    "    # end_date=None,                                        # specify end datetime, default=now\n",
    "    #limit = 2,                                               # specify limit\n",
    ")"
   ]
  },
  {
   "cell_type": "code",
   "execution_count": null,
   "metadata": {},
   "outputs": [],
   "source": [
    "stock_historical_data_client.get_stock_bars(req).df"
   ]
  },
  {
   "cell_type": "code",
   "execution_count": null,
   "metadata": {},
   "outputs": [],
   "source": [
    "# get historical trades by symbol\n",
    "req = StockTradesRequest(\n",
    "    symbol_or_symbols = [symbol],\n",
    "    start = now - timedelta(days = 5),                          # specify start datetime, default=the beginning of the current day.\n",
    "    # end=None,                                             # specify end datetime, default=now\n",
    "    limit = 2,                                                # specify limit\n",
    ")\n",
    "stock_historical_data_client.get_stock_trades(req).df"
   ]
  },
  {
   "cell_type": "code",
   "execution_count": null,
   "metadata": {},
   "outputs": [],
   "source": [
    "# get historical quotes by symbol\n",
    "req = StockQuotesRequest(\n",
    "    symbol_or_symbols = [symbol],\n",
    "    start = now - timedelta(days = 5),                      # specify start datetime, default=the beginning of the current day.\n",
    "    # end=None,                                             # specify end datetime, default=now\n",
    "    limit = 2,                                              # specify limit\n",
    ")\n",
    "stock_historical_data_client.get_stock_quotes(req).df"
   ]
  },
  {
   "cell_type": "code",
   "execution_count": null,
   "metadata": {},
   "outputs": [],
   "source": [
    "# get latest quotes by symbol\n",
    "req = StockQuotesRequest(\n",
    "    symbol_or_symbols = [symbol],\n",
    ")\n",
    "res = stock_historical_data_client.get_stock_latest_quote(req)\n",
    "res"
   ]
  },
  {
   "cell_type": "markdown",
   "metadata": {},
   "source": [
    "#### Live data"
   ]
  },
  {
   "cell_type": "code",
   "execution_count": null,
   "metadata": {},
   "outputs": [],
   "source": [
    "stock_data_stream_client = StockDataStream(api_key, secret_key, url_override = stream_data_wss)\n",
    "\n",
    "async def stock_data_stream_handler(data):\n",
    "    print(data)\n",
    "\n",
    "symbols = [symbol]\n",
    "\n",
    "stock_data_stream_client.subscribe_quotes(stock_data_stream_handler, *symbols)\n",
    "stock_data_stream_client.subscribe_trades(stock_data_stream_handler, *symbols)\n",
    "\n",
    "stock_data_stream_client.run()"
   ]
  }
 ],
 "metadata": {
  "kernelspec": {
   "display_name": ".venv",
   "language": "python",
   "name": "python3"
  },
  "language_info": {
   "codemirror_mode": {
    "name": "ipython",
    "version": 3
   },
   "file_extension": ".py",
   "mimetype": "text/x-python",
   "name": "python",
   "nbconvert_exporter": "python",
   "pygments_lexer": "ipython3",
   "version": "3.10.2"
  }
 },
 "nbformat": 4,
 "nbformat_minor": 2
}
