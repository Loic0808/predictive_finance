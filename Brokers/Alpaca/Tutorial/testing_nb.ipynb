{
 "cells": [
  {
   "cell_type": "code",
   "execution_count": 1,
   "metadata": {},
   "outputs": [],
   "source": [
    "from Brokers.Alpaca.Bots.Alpaca_keyes import API_KEY, SECRET_KEY\n",
    "from datetime import datetime, timedelta\n",
    "from zoneinfo import ZoneInfo\n",
    "\n",
    "from alpaca.data.timeframe import TimeFrame, TimeFrameUnit\n",
    "from alpaca.data.historical.stock import StockHistoricalDataClient\n",
    "from alpaca.data.requests import StockBarsRequest"
   ]
  },
  {
   "cell_type": "code",
   "execution_count": 2,
   "metadata": {},
   "outputs": [],
   "source": [
    "api_key = API_KEY\n",
    "secret_key = SECRET_KEY\n",
    "\n",
    "symbol = \"TSLA\"\n",
    "\n",
    "stock_historical_data_client = StockHistoricalDataClient(api_key, secret_key)"
   ]
  },
  {
   "cell_type": "code",
   "execution_count": 3,
   "metadata": {},
   "outputs": [],
   "source": [
    "now = datetime.now(ZoneInfo(\"America/New_York\"))\n",
    "\n",
    "req = StockBarsRequest(\n",
    "    symbol_or_symbols = [symbol],\n",
    "    timeframe=TimeFrame(amount = 15, unit = TimeFrameUnit.Minute), # specify timeframe\n",
    "    start = now - timedelta(days = 50),                          # specify start datetime, default=the beginning of the current day.\n",
    "    # end_date=None,                                        # specify end datetime, default=now\n",
    "    #limit = 2,                                               # specify limit\n",
    ")"
   ]
  },
  {
   "cell_type": "code",
   "execution_count": null,
   "metadata": {},
   "outputs": [],
   "source": [
    "# timestamp is in UTC time\n",
    "stock_historical_data_client.get_stock_bars(req).df"
   ]
  },
  {
   "cell_type": "markdown",
   "metadata": {},
   "source": [
    "I have 15 min to calculate the missing candle, I need to write a function which converts live datasream into a 15 min candle"
   ]
  },
  {
   "cell_type": "code",
   "execution_count": 5,
   "metadata": {},
   "outputs": [],
   "source": [
    "import nest_asyncio\n",
    "nest_asyncio.apply()\n",
    "\n",
    "async def stock_data_stream_handler(data):\n",
    "    print(data)"
   ]
  },
  {
   "cell_type": "code",
   "execution_count": 6,
   "metadata": {},
   "outputs": [],
   "source": [
    "from alpaca.data.live.stock import StockDataStream\n",
    "\n",
    "stock_data_stream_client = StockDataStream(api_key, secret_key)\n",
    "\n",
    "symbols = [symbol]\n",
    "\n",
    "stock_data_stream_client.subscribe_quotes(stock_data_stream_handler, *symbols)\n",
    "stock_data_stream_client.subscribe_trades(stock_data_stream_handler, *symbols)"
   ]
  },
  {
   "cell_type": "code",
   "execution_count": null,
   "metadata": {},
   "outputs": [],
   "source": [
    "import asyncio\n",
    "from alpaca.data.live.stock import StockDataStream\n",
    "\n",
    "stock_data_stream_client = StockDataStream(api_key, secret_key)\n",
    "\n",
    "async def stock_data_stream_handler(data):\n",
    "    print(data)\n",
    "\n",
    "symbols = [symbol]\n",
    "\n",
    "# Subscribe to quotes and trades\n",
    "stock_data_stream_client.subscribe_quotes(stock_data_stream_handler, *symbols)\n",
    "stock_data_stream_client.subscribe_trades(stock_data_stream_handler, *symbols)\n",
    "\n",
    "async def run_stream():\n",
    "    await stock_data_stream_client.run()\n",
    "\n",
    "async def main():\n",
    "    # Create a task for running the stream\n",
    "    stream_task = asyncio.create_task(run_stream())\n",
    "\n",
    "    # Let the stream run for a specific duration (e.g., 60 seconds)\n",
    "    await asyncio.sleep(10)\n",
    "\n",
    "    # Stop the stream client\n",
    "    await stock_data_stream_client.close() # do I need close() or stop()?\n",
    "\n",
    "    # Wait for the stream task to complete\n",
    "    await stream_task\n",
    "\n",
    "# Run the main function\n",
    "asyncio.run(main())\n"
   ]
  }
 ],
 "metadata": {
  "kernelspec": {
   "display_name": ".venv",
   "language": "python",
   "name": "python3"
  },
  "language_info": {
   "codemirror_mode": {
    "name": "ipython",
    "version": 3
   },
   "file_extension": ".py",
   "mimetype": "text/x-python",
   "name": "python",
   "nbconvert_exporter": "python",
   "pygments_lexer": "ipython3",
   "version": "3.10.2"
  }
 },
 "nbformat": 4,
 "nbformat_minor": 2
}
