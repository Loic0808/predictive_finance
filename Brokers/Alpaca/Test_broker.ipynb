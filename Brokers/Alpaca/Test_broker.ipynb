{
 "cells": [
  {
   "cell_type": "code",
   "execution_count": 2,
   "metadata": {},
   "outputs": [],
   "source": [
    "from Alpaca_keyes import API_KEY, SECRET_KEY"
   ]
  },
  {
   "cell_type": "code",
   "execution_count": 3,
   "metadata": {},
   "outputs": [],
   "source": [
    "from alpaca.data.historical import CryptoHistoricalDataClient\n",
    "from alpaca.data.requests import CryptoBarsRequest\n",
    "from alpaca.data.timeframe import TimeFrame\n",
    "\n",
    "# no keys required for crypto data\n",
    "client = CryptoHistoricalDataClient()\n",
    "\n",
    "request_params = CryptoBarsRequest(\n",
    "                        symbol_or_symbols=[\"BTC/USD\", \"ETH/USD\"],\n",
    "                        timeframe=TimeFrame.Day,\n",
    "                        start=\"2022-07-01\"\n",
    "                 )\n",
    "\n",
    "bars = client.get_crypto_bars(request_params)"
   ]
  },
  {
   "cell_type": "code",
   "execution_count": 4,
   "metadata": {},
   "outputs": [],
   "source": [
    "from alpaca.data import CryptoHistoricalDataClient, StockHistoricalDataClient, OptionHistoricalDataClient\n",
    "\n",
    "# no keys required.\n",
    "crypto_client = CryptoHistoricalDataClient()\n",
    "\n",
    "# keys required\n",
    "stock_client = StockHistoricalDataClient(API_KEY,  SECRET_KEY)\n",
    "option_client = OptionHistoricalDataClient(API_KEY,  SECRET_KEY)"
   ]
  },
  {
   "cell_type": "code",
   "execution_count": 5,
   "metadata": {},
   "outputs": [],
   "source": [
    "from alpaca.data.historical import StockHistoricalDataClient\n",
    "from alpaca.data.requests import StockLatestQuoteRequest\n",
    "\n",
    "# keys required for stock historical data client\n",
    "client = StockHistoricalDataClient(API_KEY, SECRET_KEY)\n",
    "\n",
    "# multi symbol request - single symbol is similar\n",
    "multisymbol_request_params = StockLatestQuoteRequest(symbol_or_symbols=[\"TSLA\", \"AAPL\", \"NVDA\"])\n",
    "\n",
    "latest_multisymbol_quotes = client.get_stock_latest_quote(multisymbol_request_params)\n",
    "\n",
    "gld_latest_ask_price = latest_multisymbol_quotes[\"TSLA\"].ask_price"
   ]
  },
  {
   "cell_type": "code",
   "execution_count": null,
   "metadata": {},
   "outputs": [],
   "source": [
    "from alpaca.data.historical import CryptoHistoricalDataClient\n",
    "from alpaca.data.requests import CryptoBarsRequest\n",
    "from alpaca.data.timeframe import TimeFrame\n",
    "from datetime import datetime\n",
    "\n",
    "# no keys required for crypto data\n",
    "client = CryptoHistoricalDataClient()\n",
    "\n",
    "request_params = CryptoBarsRequest(\n",
    "                        symbol_or_symbols=[\"BTC/USD\", \"ETH/USD\"],\n",
    "                        timeframe=TimeFrame.Day,\n",
    "                        start=datetime(2022, 7, 1),\n",
    "                        end=datetime(2022, 9, 1)\n",
    "                 )\n",
    "\n",
    "bars = client.get_crypto_bars(request_params)\n",
    "\n",
    "# convert to dataframe\n",
    "bars.df\n",
    "\n",
    "# access bars as list - important to note that you must access by symbol key\n",
    "# even for a single symbol request - models are agnostic to number of symbols\n",
    "bars[\"BTC/USD\"]"
   ]
  },
  {
   "cell_type": "code",
   "execution_count": 8,
   "metadata": {},
   "outputs": [],
   "source": [
    "from alpaca.data.live import CryptoDataStream, StockDataStream, OptionDataStream\n",
    "\n",
    "# keys are required for live data\n",
    "crypto_stream = CryptoDataStream(\"api-key\", \"secret-key\")\n",
    "\n",
    "# keys required\n",
    "stock_stream = StockDataStream(\"api-key\", \"secret-key\")\n",
    "option_stream = OptionDataStream(\"api-key\", \"secret-key\")"
   ]
  }
 ],
 "metadata": {
  "kernelspec": {
   "display_name": ".venv",
   "language": "python",
   "name": "python3"
  },
  "language_info": {
   "codemirror_mode": {
    "name": "ipython",
    "version": 3
   },
   "file_extension": ".py",
   "mimetype": "text/x-python",
   "name": "python",
   "nbconvert_exporter": "python",
   "pygments_lexer": "ipython3",
   "version": "3.10.2"
  }
 },
 "nbformat": 4,
 "nbformat_minor": 2
}
