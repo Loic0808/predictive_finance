{
 "cells": [
  {
   "cell_type": "code",
   "execution_count": 1,
   "metadata": {},
   "outputs": [],
   "source": [
    "from Alpaca_keyes import API_KEY, SECRET_KEY\n",
    "from datetime import datetime, timedelta\n",
    "from zoneinfo import ZoneInfo\n",
    "\n",
    "from alpaca.data.timeframe import TimeFrame, TimeFrameUnit\n",
    "from alpaca.data.historical.stock import StockHistoricalDataClient\n",
    "from alpaca.data.requests import StockBarsRequest\n",
    "\n",
    "from Indicators import EMA, ATR"
   ]
  },
  {
   "cell_type": "code",
   "execution_count": 2,
   "metadata": {},
   "outputs": [],
   "source": [
    "api_key = API_KEY\n",
    "secret_key = SECRET_KEY\n",
    "\n",
    "symbol = \"TSLA\"\n",
    "\n",
    "stock_historical_data_client = StockHistoricalDataClient(api_key, secret_key)"
   ]
  },
  {
   "cell_type": "code",
   "execution_count": 3,
   "metadata": {},
   "outputs": [],
   "source": [
    "now = datetime.now(ZoneInfo(\"America/New_York\"))\n",
    "\n",
    "req = StockBarsRequest(\n",
    "    symbol_or_symbols = [symbol],\n",
    "    timeframe=TimeFrame(amount = 15, unit = TimeFrameUnit.Minute), # specify timeframe\n",
    "    start = now - timedelta(days = 51),                          # specify start datetime, default=the beginning of the current day.\n",
    "    # end_date=None,                                        # specify end datetime, default=now\n",
    "    #limit = 2,                                               # specify limit\n",
    ")"
   ]
  },
  {
   "cell_type": "code",
   "execution_count": 4,
   "metadata": {},
   "outputs": [],
   "source": [
    "# timestamp is in UTC time\n",
    "df = stock_historical_data_client.get_stock_bars(req).df"
   ]
  },
  {
   "cell_type": "code",
   "execution_count": 5,
   "metadata": {},
   "outputs": [],
   "source": [
    "df = df.reset_index()\n",
    "#df['symbol'] = symbol\n",
    "\n",
    "#dataF = EMA(df).EMA_50(50)\n",
    "#dataF = ATR(dataF).calculate_chandelier_exit()"
   ]
  },
  {
   "cell_type": "code",
   "execution_count": null,
   "metadata": {},
   "outputs": [],
   "source": [
    "display(df)"
   ]
  },
  {
   "cell_type": "code",
   "execution_count": 12,
   "metadata": {},
   "outputs": [],
   "source": [
    "import plotly.graph_objects as go\n",
    "from Brokers.Alpaca.Testing.EasyBot import ColumnNames"
   ]
  },
  {
   "cell_type": "code",
   "execution_count": null,
   "metadata": {},
   "outputs": [],
   "source": [
    "fig2 = go.Figure(data=[go.Candlestick(x=dataF.index, # dataF[\"Datetime\"]\n",
    "                open=dataF[ColumnNames.OPEN],\n",
    "                high=dataF[ColumnNames.HIGH],\n",
    "                low=dataF[ColumnNames.LOW],\n",
    "                close=dataF[ColumnNames.CLOSE])])\n",
    "\n",
    "fig2.add_trace(go.Scatter(\n",
    "    x= dataF.index, # dataF[\"Datetime\"]\n",
    "    y=dataF[ColumnNames.EMA_50],\n",
    "    mode='lines',\n",
    "    name='50-day EMA',\n",
    "    line=dict(color='blue', width=2)\n",
    "))\n",
    "\n",
    "fig2.update_layout(height=800)\n",
    "\n",
    "fig2.show()"
   ]
  },
  {
   "cell_type": "markdown",
   "metadata": {},
   "source": [
    "### Get live data"
   ]
  },
  {
   "cell_type": "code",
   "execution_count": 14,
   "metadata": {},
   "outputs": [],
   "source": [
    "import nest_asyncio\n",
    "nest_asyncio.apply()\n",
    "\n",
    "import asyncio\n",
    "from alpaca.data.live.stock import StockDataStream\n",
    "import pandas as pd"
   ]
  },
  {
   "cell_type": "code",
   "execution_count": 15,
   "metadata": {},
   "outputs": [],
   "source": [
    "stock_data_stream_client = StockDataStream(api_key, secret_key)\n",
    "data_stream_list = []"
   ]
  },
  {
   "cell_type": "code",
   "execution_count": 16,
   "metadata": {},
   "outputs": [],
   "source": [
    "async def stock_data_stream_handler(bar):\n",
    "    data = {\n",
    "        'timestamp': [bar.timestamp],\n",
    "        'open': [bar.open],\n",
    "        'high': [bar.high],\n",
    "        'low': [bar.low],\n",
    "        'close': [bar.close],\n",
    "        'volume': [bar.volume]\n",
    "    }\n",
    "\n",
    "    data_stream_list.append(data)"
   ]
  },
  {
   "cell_type": "code",
   "execution_count": 17,
   "metadata": {},
   "outputs": [],
   "source": [
    "\"\"\"async def stock_data_stream_handler(data):\n",
    "    \n",
    "    print(data)\n",
    "    print(type(data))\n",
    "    print(data.df)\"\"\"\n",
    "\n",
    "symbols = [symbol]\n",
    "\n",
    "stock_data_stream_client.subscribe_bars(stock_data_stream_handler, *symbols)"
   ]
  },
  {
   "cell_type": "code",
   "execution_count": null,
   "metadata": {},
   "outputs": [],
   "source": [
    "stock_data_stream_client.run()"
   ]
  },
  {
   "cell_type": "code",
   "execution_count": null,
   "metadata": {},
   "outputs": [],
   "source": [
    "df = pd.DataFrame(data_stream_list)"
   ]
  },
  {
   "cell_type": "markdown",
   "metadata": {},
   "source": [
    "#### Testing"
   ]
  },
  {
   "cell_type": "code",
   "execution_count": null,
   "metadata": {},
   "outputs": [],
   "source": [
    "import threading\n",
    "import time\n",
    "\n",
    "def consumer_thread():\n",
    "    try:\n",
    "        # make sure we have an event loop, if not create a new one\n",
    "        loop = asyncio.get_event_loop()\n",
    "        loop.set_debug(True)\n",
    "    except RuntimeError:\n",
    "        asyncio.set_event_loop(asyncio.new_event_loop())\n",
    "\n",
    "    global data_stream\n",
    "    data_stream = StockDataStream(api_key, secret_key)\n",
    "    \n",
    "    async def stock_data_stream_handler(data):\n",
    "        print(data)\n",
    "        print(type(data))\n",
    "\n",
    "    data_stream.subscribe_bars(stock_data_stream_handler, *symbols)\n",
    "\n",
    "    data_stream.run()\n",
    "\n",
    "def additional_function():\n",
    "    print(\"Running additional function\")\n",
    "    # Perform tasks here\n",
    "    time.sleep(5)  # Simulate a task taking some time\n",
    "    print(\"Additional function completed\")\n",
    "\n",
    "if __name__ == '__main__':\n",
    "    loop = asyncio.get_event_loop()\n",
    "\n",
    "    while 1:\n",
    "        threading.Thread(target=consumer_thread).start()\n",
    "        time.sleep(5)\n",
    "        loop.run_until_complete(data_stream.stop_ws())\n",
    "\n",
    "        # Run the additional function in a separate thread\n",
    "        additional_thread = threading.Thread(target=additional_function)\n",
    "        additional_thread.start()\n",
    "        \n",
    "        # Wait for the additional function to complete\n",
    "        additional_thread.join()\n",
    "\n",
    "        time.sleep(20)\n"
   ]
  },
  {
   "cell_type": "markdown",
   "metadata": {},
   "source": [
    "Now I can store the data in a pandas dataframe"
   ]
  },
  {
   "cell_type": "code",
   "execution_count": null,
   "metadata": {},
   "outputs": [],
   "source": [
    "stock_data_stream_client = StockDataStream(api_key, secret_key)\n",
    "\n",
    "async def stock_data_stream_handler(data):\n",
    "    print(data)\n",
    "    print(type(data))\n",
    "\n",
    "symbols = [symbol]\n",
    "\n",
    "stock_data_stream_client.subscribe_quotes(stock_data_stream_handler, *symbols)\n",
    "stock_data_stream_client.subscribe_trades(stock_data_stream_handler, *symbols)\n",
    "\n",
    "stock_data_stream_client.run()"
   ]
  }
 ],
 "metadata": {
  "kernelspec": {
   "display_name": ".venv",
   "language": "python",
   "name": "python3"
  },
  "language_info": {
   "codemirror_mode": {
    "name": "ipython",
    "version": 3
   },
   "file_extension": ".py",
   "mimetype": "text/x-python",
   "name": "python",
   "nbconvert_exporter": "python",
   "pygments_lexer": "ipython3",
   "version": "3.10.2"
  }
 },
 "nbformat": 4,
 "nbformat_minor": 2
}
