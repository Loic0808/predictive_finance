{
 "cells": [
  {
   "cell_type": "code",
   "execution_count": null,
   "metadata": {},
   "outputs": [],
   "source": [
    "#%pip install polygon"
   ]
  },
  {
   "cell_type": "code",
   "execution_count": 2,
   "metadata": {},
   "outputs": [],
   "source": [
    "import polygon\n",
    "\n",
    "api_key = 'zUZA__vdL9LKTpVYXBj6WUwW0NF_75bU'\n",
    "\n",
    "stocks_client = polygon.StocksClient(api_key)\n",
    "\n",
    "previous_close = stocks_client.get_previous_close('AMD')"
   ]
  },
  {
   "cell_type": "code",
   "execution_count": 3,
   "metadata": {},
   "outputs": [
    {
     "name": "stdout",
     "output_type": "stream",
     "text": [
      "{'ticker': 'AMD', 'queryCount': 1, 'resultsCount': 1, 'adjusted': True, 'results': [{'T': 'AMD', 'v': 27153078.0, 'vw': 148.7881, 'o': 149.39, 'c': 147.95, 'h': 150.71, 'l': 147.525, 't': 1731099600000, 'n': 319220}], 'status': 'OK', 'request_id': '3148e377e160440aab0ddcdc877e315f', 'count': 1}\n"
     ]
    }
   ],
   "source": [
    "print(previous_close)"
   ]
  }
 ],
 "metadata": {
  "kernelspec": {
   "display_name": "Python 3",
   "language": "python",
   "name": "python3"
  },
  "language_info": {
   "codemirror_mode": {
    "name": "ipython",
    "version": 3
   },
   "file_extension": ".py",
   "mimetype": "text/x-python",
   "name": "python",
   "nbconvert_exporter": "python",
   "pygments_lexer": "ipython3",
   "version": "3.10.2"
  }
 },
 "nbformat": 4,
 "nbformat_minor": 2
}
