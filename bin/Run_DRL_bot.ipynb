{
 "cells": [
  {
   "cell_type": "code",
   "execution_count": null,
   "metadata": {},
   "outputs": [],
   "source": [
    "from test_reinforcement_learnig.DRL_trading_bot import StockTradingEnv\n",
    "from pybroker import YFinance\n",
    "import pybroker\n",
    "pybroker.enable_data_source_cache('yfinance')\n",
    "import pandas as pd\n",
    "from stable_baselines3 import PPO\n",
    "\n",
    "yfinance = YFinance()\n",
    "df = yfinance.query(['AAPL'], start_date='3/1/2021', end_date='3/1/2022')\n",
    "df['date'] = pd.to_datetime(df['date']).dt.date\n",
    "env = StockTradingEnv(df, initial_balance=100000, commission_fee=0.0001, slippage_cost=0.005)\n",
    "\n",
    "model = PPO(\"MlpPolicy\", env, verbose=0)\n",
    "model.learn(total_timesteps=100_000, progress_bar=True)\n",
    "model.save(\"ppo_aapl\")"
   ]
  }
 ],
 "metadata": {
  "kernelspec": {
   "display_name": ".venv",
   "language": "python",
   "name": "python3"
  },
  "language_info": {
   "name": "python",
   "version": "3.10.2"
  }
 },
 "nbformat": 4,
 "nbformat_minor": 2
}
