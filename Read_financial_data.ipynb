{
 "cells": [
  {
   "cell_type": "code",
   "execution_count": 1,
   "metadata": {},
   "outputs": [],
   "source": [
    "%%capture --no-display\n",
    "%pip install pathway"
   ]
  },
  {
   "cell_type": "code",
   "execution_count": null,
   "metadata": {},
   "outputs": [],
   "source": [
    "# Importing libraries for data processing, visualization, and dashboard creation\n",
    "\n",
    "import datetime\n",
    "import bokeh.models\n",
    "import bokeh.plotting\n",
    "import panel\n",
    "import pathway as pw"
   ]
  },
  {
   "cell_type": "code",
   "execution_count": null,
   "metadata": {},
   "outputs": [],
   "source": [
    "# Command to download the sample APPLE INC stock prices extracted via Polygon API and stored in a CSV for ease of review of this notebook.\n",
    "\n",
    "%%capture --no-display\n",
    "%wget -nc https://gist.githubusercontent.com/janchorowski/e351af72ecd8d206a34763a428826ab7/raw/ticker.csv"
   ]
  },
  {
   "cell_type": "code",
   "execution_count": null,
   "metadata": {},
   "outputs": [],
   "source": [
    "# Creating a streaming data source from a CSV file\n",
    "\n",
    "fname = \"ticker.csv\"\n",
    "schema = pw.schema_from_csv(fname)\n",
    "data = pw.demo.replay_csv(fname, schema=schema, input_rate=1000)\n",
    "\n",
    "# Uncommenting the line below will override the data table defined above and switch the data source to static mode, which is helpful for initial testing\n",
    "# data = pw.io.csv.read(fname, schema=schema, mode=\"static\")\n",
    "\n",
    "# Parsing the timestamps in the data\n",
    "\n",
    "data = data.with_columns(t=data.t.dt.utc_from_timestamp(unit=\"ms\"))"
   ]
  }
 ],
 "metadata": {
  "kernelspec": {
   "display_name": "Python 3",
   "language": "python",
   "name": "python3"
  },
  "language_info": {
   "codemirror_mode": {
    "name": "ipython",
    "version": 3
   },
   "file_extension": ".py",
   "mimetype": "text/x-python",
   "name": "python",
   "nbconvert_exporter": "python",
   "pygments_lexer": "ipython3",
   "version": "3.10.2"
  }
 },
 "nbformat": 4,
 "nbformat_minor": 2
}
