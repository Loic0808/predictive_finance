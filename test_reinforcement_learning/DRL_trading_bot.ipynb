{
 "cells": [
  {
   "cell_type": "code",
   "execution_count": 1,
   "metadata": {},
   "outputs": [
    {
     "name": "stdout",
     "output_type": "stream",
     "text": [
      "Requirement already satisfied: tqdm in /Users/doblerloic/Desktop/Finance_prediction_project/predictive_finance/.venv/lib/python3.10/site-packages (4.67.1)\n",
      "Requirement already satisfied: rich in /Users/doblerloic/Desktop/Finance_prediction_project/predictive_finance/.venv/lib/python3.10/site-packages (13.9.4)\n",
      "Requirement already satisfied: markdown-it-py>=2.2.0 in /Users/doblerloic/Desktop/Finance_prediction_project/predictive_finance/.venv/lib/python3.10/site-packages (from rich) (3.0.0)\n",
      "Requirement already satisfied: pygments<3.0.0,>=2.13.0 in /Users/doblerloic/Desktop/Finance_prediction_project/predictive_finance/.venv/lib/python3.10/site-packages (from rich) (2.18.0)\n",
      "Requirement already satisfied: typing-extensions<5.0,>=4.0.0 in /Users/doblerloic/Desktop/Finance_prediction_project/predictive_finance/.venv/lib/python3.10/site-packages (from rich) (4.12.2)\n",
      "Requirement already satisfied: mdurl~=0.1 in /Users/doblerloic/Desktop/Finance_prediction_project/predictive_finance/.venv/lib/python3.10/site-packages (from markdown-it-py>=2.2.0->rich) (0.1.2)\n",
      "Note: you may need to restart the kernel to use updated packages.\n"
     ]
    }
   ],
   "source": [
    "%pip install tqdm rich"
   ]
  },
  {
   "cell_type": "code",
   "execution_count": 2,
   "metadata": {},
   "outputs": [],
   "source": [
    "# TradingEnv.py\n",
    "import numpy as np\n",
    "import gymnasium as gym\n",
    "from gymnasium import spaces\n",
    "import pandas as pd\n",
    "import matplotlib.pyplot as plt \n",
    "\n",
    "import yfinance as yf\n",
    "\n",
    "#from pybroker import YFinance\n",
    "#import pybroker\n",
    "#pybroker.enable_data_source_cache('yfinance')\n",
    "from stable_baselines3 import PPO"
   ]
  },
  {
   "cell_type": "code",
   "execution_count": 3,
   "metadata": {},
   "outputs": [],
   "source": [
    "class StockTradingEnv(gym.Env):\n",
    "    def __init__(self, data, initial_balance=10000, commission_fee=0.01, slippage_cost=0.1):\n",
    "        super(StockTradingEnv, self).__init__()\n",
    "        self.data = data\n",
    "        self.current_step = 0\n",
    "        self.initial_balance = initial_balance\n",
    "        self.balance = self.initial_balance\n",
    "        self.stock_owned = 0\n",
    "        self.date = data['date']\n",
    "        self.stock_price_history = data['adj_close']\n",
    "        self.commission_fee = commission_fee\n",
    "        self.slippage_cost = slippage_cost\n",
    "        \n",
    "        self.action_space = spaces.Box(low=np.array([-1, 0]), high=np.array([1, 1]), shape=(2,))  # (Action, Amount) where Action: -1: Buy, 0: Hold, 1: Sell\n",
    "        self.observation_space = spaces.Box(low=-np.inf, high=np.inf, shape=(1,))\n",
    "        \n",
    "        self.render_df = pd.DataFrame()\n",
    "        self.done = False\n",
    "        self.current_portfolio_value = initial_balance\n",
    "        \n",
    "    def reset(self, seed = None):\n",
    "        self.current_step = 0\n",
    "        self.balance = self.initial_balance\n",
    "        self.stock_owned = 0\n",
    "        self.done = False\n",
    "        self.current_portfolio_value = self.initial_balance\n",
    "        return self._get_observation(), {}\n",
    "    \n",
    "    def step(self, action):\n",
    "        assert self.action_space.contains(action)\n",
    "        prev_portfolio_value = self.balance if self.current_step == 0 else self.balance + self.stock_owned * self.stock_price_history[self.current_step - 1]\n",
    "        current_price = self.stock_price_history[self.current_step]    \n",
    "        amount = int(self.initial_balance * action[1] / current_price)\n",
    "    \n",
    "        if action[0] > 0:  # Buy\n",
    "            amount =  min( int(self.initial_balance * action[1] / current_price), int(self.balance / current_price * (1 + self.commission_fee + self.slippage_cost)))\n",
    "            if self.balance >= current_price * amount * (1 + self.commission_fee + self.slippage_cost):\n",
    "                self.stock_owned += amount\n",
    "                self.balance -= current_price * amount * (1 + self.commission_fee + self.slippage_cost)\n",
    "        elif action[0] < 0:  # Sell\n",
    "            amount = min(amount, self.stock_owned)\n",
    "            if self.stock_owned > 0:\n",
    "                self.stock_owned -= amount\n",
    "                self.balance += current_price * amount * (1 - self.commission_fee - self.slippage_cost)\n",
    "        \n",
    "        current_portfolio_value = self.balance + self.stock_owned * current_price\n",
    "        excess_return = current_portfolio_value - prev_portfolio_value \n",
    "        risk_free_rate = 0.02  # Example risk-free rate\n",
    "        std_deviation = np.std(self.stock_price_history[:self.current_step + 1])\n",
    "        sharpe_ratio = (excess_return - risk_free_rate) / std_deviation if std_deviation != 0 else 0\n",
    "        reward = sharpe_ratio\n",
    "         \n",
    "        self.render(action, amount, current_portfolio_value)\n",
    "        obs = self._get_observation()\n",
    "        \n",
    "        self.current_step += 1\n",
    "        \n",
    "        if self.current_step == len(self.data['adj_close']):\n",
    "            done = True\n",
    "        else:\n",
    "            done = False\n",
    "        \n",
    "        self.done = done\n",
    "\n",
    "        info = {}  \n",
    "        return obs, reward, done, False,info\n",
    "    \n",
    "    \n",
    "    def _get_observation(self):\n",
    "        return np.array([\n",
    "            self.stock_price_history[self.current_step]\n",
    "        ])\n",
    "    \n",
    "    def render(self, action, amount, current_portfolio_value, mode = None):\n",
    "        current_date = self.date[self.current_step]\n",
    "        today_action =  'buy' if action[0] > 0 else 'sell'\n",
    "        current_price = self.stock_price_history[self.current_step]\n",
    "        \n",
    "        if mode == 'human':\n",
    "            print(f\"Step:{self.current_step}, Date: {current_date}, Market Value: {current_portfolio_value:.2f}, Balance: {self.balance:.2f}, Stock Owned: {self.stock_owned}, Stock Price: {current_price:.2f}, Today Action: {today_action}:{amount}\")\n",
    "        else:\n",
    "            pass\n",
    "        dict = {\n",
    "            'Date': [current_date], 'market_value': [current_portfolio_value], 'balance': [self.balance], 'stock_owned': [self.stock_owned], 'price': [current_price], 'action': [today_action], 'amount':[amount]\n",
    "        }\n",
    "        step_df = pd.DataFrame.from_dict(dict)\n",
    "        self.render_df = pd.concat([self.render_df, step_df], ignore_index=True)\n",
    "    \n",
    "    def render_all(self):\n",
    "        df = self.render_df.set_index('Date')       \n",
    "        fig, ax = plt.subplots(figsize=(18, 6)) \n",
    "        df.plot( y=\"market_value\" , use_index=True,  ax = ax, style='--' , color='lightgrey') \n",
    "        df.plot( y=\"price\" , use_index=True,  ax = ax , secondary_y = True , color='black')\n",
    "         \n",
    "        for idx in df.index.tolist():\n",
    "            if (df.loc[idx]['action'] == 'buy') & (df.loc[idx]['amount'] > 0):\n",
    "                plt.plot(\n",
    "                    idx,\n",
    "                    df.loc[idx][\"price\"] - 1,\n",
    "                    'g^'\n",
    "                )\n",
    "                plt.text(idx, df.loc[idx][\"price\"]- 3, df.loc[idx]['amount'] , c= 'green',fontsize=8, horizontalalignment='center', verticalalignment='center')\n",
    "            elif (df.loc[idx]['action'] == 'sell') & (df.loc[idx]['amount'] > 0):\n",
    "                plt.plot(\n",
    "                    idx,\n",
    "                    df.loc[idx][\"price\"] + 1,\n",
    "                    'rv'\n",
    "                    )\n",
    "                plt.text(idx, df.loc[idx][\"price\"] + 3, df.loc[idx]['amount'], c= 'red',fontsize=8, horizontalalignment='center', verticalalignment='center')        "
   ]
  },
  {
   "cell_type": "code",
   "execution_count": 4,
   "metadata": {},
   "outputs": [
    {
     "name": "stderr",
     "output_type": "stream",
     "text": [
      "[*********************100%***********************]  1 of 1 completed\n"
     ]
    }
   ],
   "source": [
    "df_train = yf.download(\"MSFT\", start=\"2024-10-16\", end=\"2024-11-13\", interval='15m')\n",
    "\n",
    "df_train.columns = df_train.columns.droplevel(1)\n",
    "df_train.reset_index(inplace=True)\n",
    "\n",
    "df_train = df_train.rename(columns={\"Datetime\": \"date\", \"Adj Close\": \"adj_close\"})"
   ]
  },
  {
   "cell_type": "code",
   "execution_count": 5,
   "metadata": {},
   "outputs": [
    {
     "data": {
      "text/html": [
       "<div>\n",
       "<style scoped>\n",
       "    .dataframe tbody tr th:only-of-type {\n",
       "        vertical-align: middle;\n",
       "    }\n",
       "\n",
       "    .dataframe tbody tr th {\n",
       "        vertical-align: top;\n",
       "    }\n",
       "\n",
       "    .dataframe thead th {\n",
       "        text-align: right;\n",
       "    }\n",
       "</style>\n",
       "<table border=\"1\" class=\"dataframe\">\n",
       "  <thead>\n",
       "    <tr style=\"text-align: right;\">\n",
       "      <th>Price</th>\n",
       "      <th>date</th>\n",
       "      <th>adj_close</th>\n",
       "      <th>Close</th>\n",
       "      <th>High</th>\n",
       "      <th>Low</th>\n",
       "      <th>Open</th>\n",
       "      <th>Volume</th>\n",
       "    </tr>\n",
       "  </thead>\n",
       "  <tbody>\n",
       "    <tr>\n",
       "      <th>0</th>\n",
       "      <td>2024-10-16 09:30:00</td>\n",
       "      <td>413.390015</td>\n",
       "      <td>413.390015</td>\n",
       "      <td>415.839996</td>\n",
       "      <td>413.209991</td>\n",
       "      <td>415.019989</td>\n",
       "      <td>1590443</td>\n",
       "    </tr>\n",
       "    <tr>\n",
       "      <th>1</th>\n",
       "      <td>2024-10-16 09:45:00</td>\n",
       "      <td>410.929993</td>\n",
       "      <td>410.929993</td>\n",
       "      <td>414.109985</td>\n",
       "      <td>410.640808</td>\n",
       "      <td>413.410004</td>\n",
       "      <td>1048877</td>\n",
       "    </tr>\n",
       "    <tr>\n",
       "      <th>2</th>\n",
       "      <td>2024-10-16 10:00:00</td>\n",
       "      <td>412.734985</td>\n",
       "      <td>412.734985</td>\n",
       "      <td>412.839996</td>\n",
       "      <td>410.480011</td>\n",
       "      <td>410.880005</td>\n",
       "      <td>815615</td>\n",
       "    </tr>\n",
       "    <tr>\n",
       "      <th>3</th>\n",
       "      <td>2024-10-16 10:15:00</td>\n",
       "      <td>413.329987</td>\n",
       "      <td>413.329987</td>\n",
       "      <td>413.440002</td>\n",
       "      <td>411.929993</td>\n",
       "      <td>412.732788</td>\n",
       "      <td>489726</td>\n",
       "    </tr>\n",
       "    <tr>\n",
       "      <th>4</th>\n",
       "      <td>2024-10-16 10:30:00</td>\n",
       "      <td>412.640015</td>\n",
       "      <td>412.640015</td>\n",
       "      <td>413.500000</td>\n",
       "      <td>412.345001</td>\n",
       "      <td>413.299988</td>\n",
       "      <td>466166</td>\n",
       "    </tr>\n",
       "    <tr>\n",
       "      <th>...</th>\n",
       "      <td>...</td>\n",
       "      <td>...</td>\n",
       "      <td>...</td>\n",
       "      <td>...</td>\n",
       "      <td>...</td>\n",
       "      <td>...</td>\n",
       "      <td>...</td>\n",
       "    </tr>\n",
       "    <tr>\n",
       "      <th>515</th>\n",
       "      <td>2024-11-12 14:45:00</td>\n",
       "      <td>423.709991</td>\n",
       "      <td>423.709991</td>\n",
       "      <td>423.839996</td>\n",
       "      <td>423.079987</td>\n",
       "      <td>423.282501</td>\n",
       "      <td>292904</td>\n",
       "    </tr>\n",
       "    <tr>\n",
       "      <th>516</th>\n",
       "      <td>2024-11-12 15:00:00</td>\n",
       "      <td>424.007690</td>\n",
       "      <td>424.007690</td>\n",
       "      <td>424.439911</td>\n",
       "      <td>423.630096</td>\n",
       "      <td>423.739990</td>\n",
       "      <td>369294</td>\n",
       "    </tr>\n",
       "    <tr>\n",
       "      <th>517</th>\n",
       "      <td>2024-11-12 15:15:00</td>\n",
       "      <td>423.552002</td>\n",
       "      <td>423.552002</td>\n",
       "      <td>424.049988</td>\n",
       "      <td>423.300293</td>\n",
       "      <td>423.950012</td>\n",
       "      <td>558675</td>\n",
       "    </tr>\n",
       "    <tr>\n",
       "      <th>518</th>\n",
       "      <td>2024-11-12 15:30:00</td>\n",
       "      <td>423.378693</td>\n",
       "      <td>423.378693</td>\n",
       "      <td>423.529999</td>\n",
       "      <td>423.019989</td>\n",
       "      <td>423.489990</td>\n",
       "      <td>432044</td>\n",
       "    </tr>\n",
       "    <tr>\n",
       "      <th>519</th>\n",
       "      <td>2024-11-12 15:45:00</td>\n",
       "      <td>423.130005</td>\n",
       "      <td>423.130005</td>\n",
       "      <td>424.440002</td>\n",
       "      <td>422.660004</td>\n",
       "      <td>423.360107</td>\n",
       "      <td>1808425</td>\n",
       "    </tr>\n",
       "  </tbody>\n",
       "</table>\n",
       "<p>520 rows × 7 columns</p>\n",
       "</div>"
      ],
      "text/plain": [
       "Price                date   adj_close       Close        High         Low  \\\n",
       "0     2024-10-16 09:30:00  413.390015  413.390015  415.839996  413.209991   \n",
       "1     2024-10-16 09:45:00  410.929993  410.929993  414.109985  410.640808   \n",
       "2     2024-10-16 10:00:00  412.734985  412.734985  412.839996  410.480011   \n",
       "3     2024-10-16 10:15:00  413.329987  413.329987  413.440002  411.929993   \n",
       "4     2024-10-16 10:30:00  412.640015  412.640015  413.500000  412.345001   \n",
       "..                    ...         ...         ...         ...         ...   \n",
       "515   2024-11-12 14:45:00  423.709991  423.709991  423.839996  423.079987   \n",
       "516   2024-11-12 15:00:00  424.007690  424.007690  424.439911  423.630096   \n",
       "517   2024-11-12 15:15:00  423.552002  423.552002  424.049988  423.300293   \n",
       "518   2024-11-12 15:30:00  423.378693  423.378693  423.529999  423.019989   \n",
       "519   2024-11-12 15:45:00  423.130005  423.130005  424.440002  422.660004   \n",
       "\n",
       "Price        Open   Volume  \n",
       "0      415.019989  1590443  \n",
       "1      413.410004  1048877  \n",
       "2      410.880005   815615  \n",
       "3      412.732788   489726  \n",
       "4      413.299988   466166  \n",
       "..            ...      ...  \n",
       "515    423.282501   292904  \n",
       "516    423.739990   369294  \n",
       "517    423.950012   558675  \n",
       "518    423.489990   432044  \n",
       "519    423.360107  1808425  \n",
       "\n",
       "[520 rows x 7 columns]"
      ]
     },
     "metadata": {},
     "output_type": "display_data"
    }
   ],
   "source": [
    "display(df_train)"
   ]
  },
  {
   "cell_type": "code",
   "execution_count": 6,
   "metadata": {},
   "outputs": [
    {
     "data": {
      "application/vnd.jupyter.widget-view+json": {
       "model_id": "76882551aa52494aa1836d841a4cb1fc",
       "version_major": 2,
       "version_minor": 0
      },
      "text/plain": [
       "Output()"
      ]
     },
     "metadata": {},
     "output_type": "display_data"
    },
    {
     "data": {
      "text/html": [
       "<pre style=\"white-space:pre;overflow-x:auto;line-height:normal;font-family:Menlo,'DejaVu Sans Mono',consolas,'Courier New',monospace\"></pre>\n"
      ],
      "text/plain": []
     },
     "metadata": {},
     "output_type": "display_data"
    },
    {
     "data": {
      "text/plain": [
       "<stable_baselines3.ppo.ppo.PPO at 0x13efffac0>"
      ]
     },
     "execution_count": 6,
     "metadata": {},
     "output_type": "execute_result"
    }
   ],
   "source": [
    "env = StockTradingEnv(df_train, initial_balance=100000, commission_fee=0.0001, slippage_cost=0.005)\n",
    "\n",
    "model = PPO(\"MlpPolicy\", env, verbose=0)\n",
    "model.learn(total_timesteps=100_000, progress_bar=True)\n",
    "#model.save(\"ppo_aapl\")"
   ]
  },
  {
   "cell_type": "code",
   "execution_count": 7,
   "metadata": {},
   "outputs": [],
   "source": [
    "model.save(\"ppo_msft_v1\")"
   ]
  },
  {
   "cell_type": "code",
   "execution_count": 8,
   "metadata": {},
   "outputs": [
    {
     "name": "stderr",
     "output_type": "stream",
     "text": [
      "[*********************100%***********************]  1 of 1 completed\n"
     ]
    }
   ],
   "source": [
    "df_test = yf.download(\"MSFT\", start=\"2024-11-13\", end=\"2024-12-13\", interval='15m')\n",
    "\n",
    "df_test.columns = df_test.columns.droplevel(1)\n",
    "df_test.reset_index(inplace=True)\n",
    "\n",
    "df_test = df_test.rename(columns={\"Datetime\": \"date\", \"Adj Close\": \"adj_close\"})"
   ]
  },
  {
   "cell_type": "code",
   "execution_count": 19,
   "metadata": {},
   "outputs": [],
   "source": [
    "env_test = StockTradingEnv(df_test, initial_balance=100000, commission_fee=0.0001, slippage_cost=0.005)\n",
    "\n",
    "#model = PPO.load(\"ppo_aapl\", env=env)\n",
    "\n",
    "vec_env = model.get_env()\n",
    "obs = vec_env.reset()\n",
    "for i in range(len(df_test['adj_close'])):\n",
    "    action, _state = model.predict(obs)\n",
    "    obs, reward, done, info = vec_env.step(action)"
   ]
  },
  {
   "cell_type": "code",
   "execution_count": 21,
   "metadata": {},
   "outputs": [
    {
     "name": "stdout",
     "output_type": "stream",
     "text": [
      "Empty DataFrame\n",
      "Columns: []\n",
      "Index: []\n"
     ]
    }
   ],
   "source": [
    "print(env.render_df)"
   ]
  },
  {
   "cell_type": "code",
   "execution_count": 16,
   "metadata": {},
   "outputs": [
    {
     "ename": "KeyError",
     "evalue": "\"None of ['Date'] are in the columns\"",
     "output_type": "error",
     "traceback": [
      "\u001b[0;31m---------------------------------------------------------------------------\u001b[0m",
      "\u001b[0;31mKeyError\u001b[0m                                  Traceback (most recent call last)",
      "\u001b[0;32m/var/folders/6b/r3xhr4d94wn52lq9yxzbnnzm0000gn/T/ipykernel_9146/991911901.py\u001b[0m in \u001b[0;36m?\u001b[0;34m()\u001b[0m\n\u001b[0;32m----> 1\u001b[0;31m \u001b[0menv_test\u001b[0m\u001b[0;34m.\u001b[0m\u001b[0mrender_all\u001b[0m\u001b[0;34m(\u001b[0m\u001b[0;34m)\u001b[0m\u001b[0;34m\u001b[0m\u001b[0;34m\u001b[0m\u001b[0m\n\u001b[0m",
      "\u001b[0;32m/var/folders/6b/r3xhr4d94wn52lq9yxzbnnzm0000gn/T/ipykernel_9146/3304760047.py\u001b[0m in \u001b[0;36m?\u001b[0;34m(self)\u001b[0m\n\u001b[1;32m     89\u001b[0m     \u001b[0;32mdef\u001b[0m \u001b[0mrender_all\u001b[0m\u001b[0;34m(\u001b[0m\u001b[0mself\u001b[0m\u001b[0;34m)\u001b[0m\u001b[0;34m:\u001b[0m\u001b[0;34m\u001b[0m\u001b[0;34m\u001b[0m\u001b[0m\n\u001b[0;32m---> 90\u001b[0;31m         \u001b[0mdf\u001b[0m \u001b[0;34m=\u001b[0m \u001b[0mself\u001b[0m\u001b[0;34m.\u001b[0m\u001b[0mrender_df\u001b[0m\u001b[0;34m.\u001b[0m\u001b[0mset_index\u001b[0m\u001b[0;34m(\u001b[0m\u001b[0;34m'Date'\u001b[0m\u001b[0;34m)\u001b[0m\u001b[0;34m\u001b[0m\u001b[0;34m\u001b[0m\u001b[0m\n\u001b[0m\u001b[1;32m     91\u001b[0m         \u001b[0mfig\u001b[0m\u001b[0;34m,\u001b[0m \u001b[0max\u001b[0m \u001b[0;34m=\u001b[0m \u001b[0mplt\u001b[0m\u001b[0;34m.\u001b[0m\u001b[0msubplots\u001b[0m\u001b[0;34m(\u001b[0m\u001b[0mfigsize\u001b[0m\u001b[0;34m=\u001b[0m\u001b[0;34m(\u001b[0m\u001b[0;36m18\u001b[0m\u001b[0;34m,\u001b[0m \u001b[0;36m6\u001b[0m\u001b[0;34m)\u001b[0m\u001b[0;34m)\u001b[0m\u001b[0;34m\u001b[0m\u001b[0;34m\u001b[0m\u001b[0m\n\u001b[1;32m     92\u001b[0m         \u001b[0mdf\u001b[0m\u001b[0;34m.\u001b[0m\u001b[0mplot\u001b[0m\u001b[0;34m(\u001b[0m \u001b[0my\u001b[0m\u001b[0;34m=\u001b[0m\u001b[0;34m\"market_value\"\u001b[0m \u001b[0;34m,\u001b[0m \u001b[0muse_index\u001b[0m\u001b[0;34m=\u001b[0m\u001b[0;32mTrue\u001b[0m\u001b[0;34m,\u001b[0m  \u001b[0max\u001b[0m \u001b[0;34m=\u001b[0m \u001b[0max\u001b[0m\u001b[0;34m,\u001b[0m \u001b[0mstyle\u001b[0m\u001b[0;34m=\u001b[0m\u001b[0;34m'--'\u001b[0m \u001b[0;34m,\u001b[0m \u001b[0mcolor\u001b[0m\u001b[0;34m=\u001b[0m\u001b[0;34m'lightgrey'\u001b[0m\u001b[0;34m)\u001b[0m\u001b[0;34m\u001b[0m\u001b[0;34m\u001b[0m\u001b[0m\n\u001b[1;32m     93\u001b[0m         \u001b[0mdf\u001b[0m\u001b[0;34m.\u001b[0m\u001b[0mplot\u001b[0m\u001b[0;34m(\u001b[0m \u001b[0my\u001b[0m\u001b[0;34m=\u001b[0m\u001b[0;34m\"price\"\u001b[0m \u001b[0;34m,\u001b[0m \u001b[0muse_index\u001b[0m\u001b[0;34m=\u001b[0m\u001b[0;32mTrue\u001b[0m\u001b[0;34m,\u001b[0m  \u001b[0max\u001b[0m \u001b[0;34m=\u001b[0m \u001b[0max\u001b[0m \u001b[0;34m,\u001b[0m \u001b[0msecondary_y\u001b[0m \u001b[0;34m=\u001b[0m \u001b[0;32mTrue\u001b[0m \u001b[0;34m,\u001b[0m \u001b[0mcolor\u001b[0m\u001b[0;34m=\u001b[0m\u001b[0;34m'black'\u001b[0m\u001b[0;34m)\u001b[0m\u001b[0;34m\u001b[0m\u001b[0;34m\u001b[0m\u001b[0m\n",
      "\u001b[0;32m~/Desktop/Finance_prediction_project/predictive_finance/.venv/lib/python3.10/site-packages/pandas/core/frame.py\u001b[0m in \u001b[0;36m?\u001b[0;34m(self, keys, drop, append, inplace, verify_integrity)\u001b[0m\n\u001b[1;32m   6118\u001b[0m                     \u001b[0;32mif\u001b[0m \u001b[0;32mnot\u001b[0m \u001b[0mfound\u001b[0m\u001b[0;34m:\u001b[0m\u001b[0;34m\u001b[0m\u001b[0;34m\u001b[0m\u001b[0m\n\u001b[1;32m   6119\u001b[0m                         \u001b[0mmissing\u001b[0m\u001b[0;34m.\u001b[0m\u001b[0mappend\u001b[0m\u001b[0;34m(\u001b[0m\u001b[0mcol\u001b[0m\u001b[0;34m)\u001b[0m\u001b[0;34m\u001b[0m\u001b[0;34m\u001b[0m\u001b[0m\n\u001b[1;32m   6120\u001b[0m \u001b[0;34m\u001b[0m\u001b[0m\n\u001b[1;32m   6121\u001b[0m         \u001b[0;32mif\u001b[0m \u001b[0mmissing\u001b[0m\u001b[0;34m:\u001b[0m\u001b[0;34m\u001b[0m\u001b[0;34m\u001b[0m\u001b[0m\n\u001b[0;32m-> 6122\u001b[0;31m             \u001b[0;32mraise\u001b[0m \u001b[0mKeyError\u001b[0m\u001b[0;34m(\u001b[0m\u001b[0;34mf\"None of {missing} are in the columns\"\u001b[0m\u001b[0;34m)\u001b[0m\u001b[0;34m\u001b[0m\u001b[0;34m\u001b[0m\u001b[0m\n\u001b[0m\u001b[1;32m   6123\u001b[0m \u001b[0;34m\u001b[0m\u001b[0m\n\u001b[1;32m   6124\u001b[0m         \u001b[0;32mif\u001b[0m \u001b[0minplace\u001b[0m\u001b[0;34m:\u001b[0m\u001b[0;34m\u001b[0m\u001b[0;34m\u001b[0m\u001b[0m\n\u001b[1;32m   6125\u001b[0m             \u001b[0mframe\u001b[0m \u001b[0;34m=\u001b[0m \u001b[0mself\u001b[0m\u001b[0;34m\u001b[0m\u001b[0;34m\u001b[0m\u001b[0m\n",
      "\u001b[0;31mKeyError\u001b[0m: \"None of ['Date'] are in the columns\""
     ]
    }
   ],
   "source": [
    "env_test.render_all()"
   ]
  }
 ],
 "metadata": {
  "kernelspec": {
   "display_name": ".venv",
   "language": "python",
   "name": "python3"
  },
  "language_info": {
   "codemirror_mode": {
    "name": "ipython",
    "version": 3
   },
   "file_extension": ".py",
   "mimetype": "text/x-python",
   "name": "python",
   "nbconvert_exporter": "python",
   "pygments_lexer": "ipython3",
   "version": "3.10.2"
  }
 },
 "nbformat": 4,
 "nbformat_minor": 2
}
