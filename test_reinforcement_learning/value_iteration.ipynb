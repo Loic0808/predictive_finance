{
 "cells": [
  {
   "cell_type": "code",
   "execution_count": null,
   "metadata": {},
   "outputs": [],
   "source": [
    "import numpy as np\n",
    "import gym\n",
    "from gym import wrappers"
   ]
  },
  {
   "cell_type": "markdown",
   "metadata": {},
   "source": [
    "env.step(action): Executes an action in the environment and returns the next observation, reward, a boolean done (indicating if the episode has ended), and additional info.\n",
    "\n",
    "This code\\\n",
    "obs, reward, done, _ = env.step(int(policy[obs]))\\\n",
    "does the following:\\\n",
    "The policy selects an action based on the current observation obs, which is cast to an integer before being passed to env.step. The environment executes the action and returns:\n",
    "1) The next observation obs.\n",
    "2) The reward for the action reward.\n",
    "3) Whether the episode has ended (done).\n",
    "4) Additional info (ignored in this code)."
   ]
  },
  {
   "cell_type": "code",
   "execution_count": null,
   "metadata": {},
   "outputs": [],
   "source": [
    "def run_episode(env, policy, gamma = 1.0, render = True):\n",
    "    \"\"\" Evaluates policy by using it to run an episode and finding its\n",
    "    total reward.\n",
    "    args:\n",
    "    env: gym environment.\n",
    "    policy: the policy to be used.\n",
    "    gamma: discount factor.\n",
    "    render: boolean to turn rendering on/off.\n",
    "    returns:\n",
    "    total reward: real value of the total reward recieved by agent under policy.\n",
    "    \"\"\"\n",
    "    obs = env.reset() # Resets the environment to an initial state and returns the initial observation.\n",
    "    total_reward = 0 \n",
    "    step_idx = 0\n",
    "    while True:\n",
    "        if render:\n",
    "            env.render() # A flag to control whether the environment's visualization is rendered during the episode.\n",
    "        obs, reward, done , _ = env.step(int(policy[obs])) # Here, policy[obs] indicates the action for a given observation obs\n",
    "        total_reward += (gamma ** step_idx * reward)\n",
    "        step_idx += 1\n",
    "        if done:\n",
    "            break\n",
    "    return total_reward"
   ]
  },
  {
   "cell_type": "code",
   "execution_count": null,
   "metadata": {},
   "outputs": [],
   "source": [
    "def evaluate_policy(env, policy, gamma = 1.0,  n = 100):\n",
    "    \"\"\" Evaluates a policy by running it n times.\n",
    "    returns:\n",
    "    average total reward\n",
    "\n",
    "    I.e., here we calculate the expected reward of the policy\n",
    "    \"\"\"\n",
    "    scores = [run_episode(env, policy, gamma = gamma, render = False) for _ in range(n)]\n",
    "    return np.mean(scores)"
   ]
  },
  {
   "cell_type": "markdown",
   "metadata": {},
   "source": [
    "In the code below a temporary array q_sa is initialized to store the Q-values for each possible action in state s.\\\n",
    "\n",
    "env.P[s][a]: Contains a list of possible outcomes (state transitions) for taking action a in state s. Each outcome is represented as a tuple (p, s_, r, done):\n",
    "- p: Probability of the transition.\n",
    "- s_: The next state after the transition.\n",
    "- r: Reward for the transition.\n",
    "- done: Boolean indicating if the episode ends.\\\n",
    "\n",
    "The value of q_sa[a] is updated by adding the expected reward:\n",
    "- Immediate reward: r.\n",
    "- Discounted value of the next state: gamma * v[s_].\n",
    "- Weighted by the probability of the transition: p."
   ]
  },
  {
   "cell_type": "code",
   "execution_count": null,
   "metadata": {},
   "outputs": [],
   "source": [
    "def extract_policy(env, v, gamma = 1.0):\n",
    "    \"\"\" Extract the policy given a value-function \"\"\"\n",
    "    policy = np.zeros(env.nS) # The number of states in the environment. \n",
    "    for s in range(env.nS):\n",
    "        q_sa = np.zeros(env.action_space.n)\n",
    "        for a in range(env.action_space.n): # Loops through all possible actions a in the current state s\n",
    "            for next_sr in env.P[s][a]:\n",
    "                # next_sr is a tuple of (probability, next state, reward, done)\n",
    "                p, s_, r, _ = next_sr\n",
    "                q_sa[a] += (p * (r + gamma * v[s_]))\n",
    "        policy[s] = np.argmax(q_sa)\n",
    "    return policy"
   ]
  },
  {
   "cell_type": "markdown",
   "metadata": {},
   "source": [
    "Using the Bellman equation, we update the value of $Q$ and $V$ using the following principle:\n",
    "$$Q^{(n+1)}(x,u) = \\gamma P_1^{u} V^{(n)}(x) + r(x)$$\n",
    "and \n",
    "$$ V^{(n+1)}(x) = \\sup_{u \\in U} Q^{(n+1)}(x,u).$$"
   ]
  },
  {
   "cell_type": "code",
   "execution_count": null,
   "metadata": {},
   "outputs": [],
   "source": [
    "def value_iteration(env, gamma = 1.0):\n",
    "    \"\"\" Value-iteration algorithm \"\"\"\n",
    "    v = np.zeros(env.nS)  # initialize value-function\n",
    "    max_iterations = 100000\n",
    "    eps = 1e-20\n",
    "    for i in range(max_iterations):\n",
    "        prev_v = np.copy(v)\n",
    "        for s in range(env.nS):\n",
    "            q_sa = [sum([p*(r + prev_v[s_]) for p, s_, r, _ in env.P[s][a]]) for a in range(env.nA)] \n",
    "            v[s] = max(q_sa)\n",
    "        if (np.sum(np.fabs(prev_v - v)) <= eps):\n",
    "            print ('Value-iteration converged at iteration# %d.' %(i+1))\n",
    "            break\n",
    "    return v"
   ]
  },
  {
   "cell_type": "markdown",
   "metadata": {},
   "source": [
    "In OpenAI Gym, environments are often wrapped with wrappers to extend their functionality. These wrappers modify or augment the behavior of the base environment. For example:\n",
    "\n",
    "- Observation Wrappers: Modify the observations returned by the environment.\n",
    "- Reward Wrappers: Transform the rewards.\n",
    "- Action Wrappers: Change the action space or map actions to specific formats.\n",
    "- Monitor Wrappers: Log episodes or render visuals.\n",
    "\n",
    "Example:\n",
    "The TimeLimit wrapper adds a maximum time step limit to the \"CartPole-v1\" environment. By calling env.unwrapped, we access the base CartPoleEnv without the time limit imposed by the wrapper."
   ]
  },
  {
   "cell_type": "code",
   "execution_count": null,
   "metadata": {},
   "outputs": [],
   "source": [
    "env_name  = 'FrozenLake8x8-v0'\n",
    "gamma = 1.0\n",
    "env = gym.make(env_name)\n",
    "env=env.unwrapped\n",
    "optimal_v = value_iteration(env, gamma)\n",
    "policy = extract_policy(optimal_v, gamma)\n",
    "policy_score = evaluate_policy(env, policy, gamma, n=1000)\n",
    "print('Policy average score = ', policy_score)"
   ]
  }
 ],
 "metadata": {
  "kernelspec": {
   "display_name": "Python 3",
   "language": "python",
   "name": "python3"
  },
  "language_info": {
   "name": "python",
   "version": "3.11.7"
  }
 },
 "nbformat": 4,
 "nbformat_minor": 2
}
